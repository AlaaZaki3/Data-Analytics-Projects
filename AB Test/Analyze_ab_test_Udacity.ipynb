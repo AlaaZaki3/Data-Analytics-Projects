{
 "cells": [
  {
   "cell_type": "markdown",
   "metadata": {},
   "source": [
    "## Analyze A/B Test Results\n",
    "\n",
    "This project will assure you have mastered the subjects covered in the statistics lessons.  The hope is to have this project be as comprehensive of these topics as possible.  Good luck!\n",
    "\n",
    "## Table of Contents\n",
    "- [Introduction](#intro)\n",
    "- [Part I - Probability](#probability)\n",
    "- [Part II - A/B Test](#ab_test)\n",
    "- [Part III - Regression](#regression)\n",
    "\n",
    "\n",
    "<a id='intro'></a>\n",
    "### Introduction\n",
    "\n",
    "A/B tests are very commonly performed by data analysts and data scientists.  It is important that you get some practice working with the difficulties of these \n",
    "\n",
    "For this project, you will be working to understand the results of an A/B test run by an e-commerce website.  Your goal is to work through this notebook to help the company understand if they should implement the new page, keep the old page, or perhaps run the experiment longer to make their decision.\n",
    "\n",
    "**As you work through this notebook, follow along in the classroom and answer the corresponding quiz questions associated with each question.** The labels for each classroom concept are provided for each question.  This will assure you are on the right track as you work through the project, and you can feel more confident in your final submission meeting the criteria.  As a final check, assure you meet all the criteria on the [RUBRIC](https://review.udacity.com/#!/projects/37e27304-ad47-4eb0-a1ab-8c12f60e43d0/rubric).\n",
    "\n",
    "<a id='probability'></a>\n",
    "#### Part I - Probability\n",
    "\n",
    "To get started, let's import our libraries."
   ]
  },
  {
   "cell_type": "code",
   "execution_count": 61,
   "metadata": {},
   "outputs": [],
   "source": [
    "import pandas as pd\n",
    "import numpy as np\n",
    "import random\n",
    "import matplotlib.pyplot as plt\n",
    "%matplotlib inline\n",
    "#We are setting the seed to assure you get the same answers on quizzes as we set up\n",
    "random.seed(42)"
   ]
  },
  {
   "cell_type": "markdown",
   "metadata": {},
   "source": [
    "`1.` Now, read in the `ab_data.csv` data. Store it in `df`.  **Use your dataframe to answer the questions in Quiz 1 of the classroom.**\n",
    "\n",
    "a. Read in the dataset and take a look at the top few rows here:"
   ]
  },
  {
   "cell_type": "code",
   "execution_count": 62,
   "metadata": {},
   "outputs": [
    {
     "data": {
      "text/html": [
       "<div>\n",
       "<style scoped>\n",
       "    .dataframe tbody tr th:only-of-type {\n",
       "        vertical-align: middle;\n",
       "    }\n",
       "\n",
       "    .dataframe tbody tr th {\n",
       "        vertical-align: top;\n",
       "    }\n",
       "\n",
       "    .dataframe thead th {\n",
       "        text-align: right;\n",
       "    }\n",
       "</style>\n",
       "<table border=\"1\" class=\"dataframe\">\n",
       "  <thead>\n",
       "    <tr style=\"text-align: right;\">\n",
       "      <th></th>\n",
       "      <th>user_id</th>\n",
       "      <th>timestamp</th>\n",
       "      <th>group</th>\n",
       "      <th>landing_page</th>\n",
       "      <th>converted</th>\n",
       "    </tr>\n",
       "  </thead>\n",
       "  <tbody>\n",
       "    <tr>\n",
       "      <th>0</th>\n",
       "      <td>851104</td>\n",
       "      <td>2017-01-21 22:11:48.556739</td>\n",
       "      <td>control</td>\n",
       "      <td>old_page</td>\n",
       "      <td>0</td>\n",
       "    </tr>\n",
       "    <tr>\n",
       "      <th>1</th>\n",
       "      <td>804228</td>\n",
       "      <td>2017-01-12 08:01:45.159739</td>\n",
       "      <td>control</td>\n",
       "      <td>old_page</td>\n",
       "      <td>0</td>\n",
       "    </tr>\n",
       "    <tr>\n",
       "      <th>2</th>\n",
       "      <td>661590</td>\n",
       "      <td>2017-01-11 16:55:06.154213</td>\n",
       "      <td>treatment</td>\n",
       "      <td>new_page</td>\n",
       "      <td>0</td>\n",
       "    </tr>\n",
       "    <tr>\n",
       "      <th>3</th>\n",
       "      <td>853541</td>\n",
       "      <td>2017-01-08 18:28:03.143765</td>\n",
       "      <td>treatment</td>\n",
       "      <td>new_page</td>\n",
       "      <td>0</td>\n",
       "    </tr>\n",
       "    <tr>\n",
       "      <th>4</th>\n",
       "      <td>864975</td>\n",
       "      <td>2017-01-21 01:52:26.210827</td>\n",
       "      <td>control</td>\n",
       "      <td>old_page</td>\n",
       "      <td>1</td>\n",
       "    </tr>\n",
       "    <tr>\n",
       "      <th>5</th>\n",
       "      <td>936923</td>\n",
       "      <td>2017-01-10 15:20:49.083499</td>\n",
       "      <td>control</td>\n",
       "      <td>old_page</td>\n",
       "      <td>0</td>\n",
       "    </tr>\n",
       "    <tr>\n",
       "      <th>6</th>\n",
       "      <td>679687</td>\n",
       "      <td>2017-01-19 03:26:46.940749</td>\n",
       "      <td>treatment</td>\n",
       "      <td>new_page</td>\n",
       "      <td>1</td>\n",
       "    </tr>\n",
       "    <tr>\n",
       "      <th>7</th>\n",
       "      <td>719014</td>\n",
       "      <td>2017-01-17 01:48:29.539573</td>\n",
       "      <td>control</td>\n",
       "      <td>old_page</td>\n",
       "      <td>0</td>\n",
       "    </tr>\n",
       "    <tr>\n",
       "      <th>8</th>\n",
       "      <td>817355</td>\n",
       "      <td>2017-01-04 17:58:08.979471</td>\n",
       "      <td>treatment</td>\n",
       "      <td>new_page</td>\n",
       "      <td>1</td>\n",
       "    </tr>\n",
       "    <tr>\n",
       "      <th>9</th>\n",
       "      <td>839785</td>\n",
       "      <td>2017-01-15 18:11:06.610965</td>\n",
       "      <td>treatment</td>\n",
       "      <td>new_page</td>\n",
       "      <td>1</td>\n",
       "    </tr>\n",
       "    <tr>\n",
       "      <th>10</th>\n",
       "      <td>929503</td>\n",
       "      <td>2017-01-18 05:37:11.527370</td>\n",
       "      <td>treatment</td>\n",
       "      <td>new_page</td>\n",
       "      <td>0</td>\n",
       "    </tr>\n",
       "    <tr>\n",
       "      <th>11</th>\n",
       "      <td>834487</td>\n",
       "      <td>2017-01-21 22:37:47.774891</td>\n",
       "      <td>treatment</td>\n",
       "      <td>new_page</td>\n",
       "      <td>0</td>\n",
       "    </tr>\n",
       "    <tr>\n",
       "      <th>12</th>\n",
       "      <td>803683</td>\n",
       "      <td>2017-01-09 06:05:16.222706</td>\n",
       "      <td>treatment</td>\n",
       "      <td>new_page</td>\n",
       "      <td>0</td>\n",
       "    </tr>\n",
       "    <tr>\n",
       "      <th>13</th>\n",
       "      <td>944475</td>\n",
       "      <td>2017-01-22 01:31:09.573836</td>\n",
       "      <td>treatment</td>\n",
       "      <td>new_page</td>\n",
       "      <td>0</td>\n",
       "    </tr>\n",
       "    <tr>\n",
       "      <th>14</th>\n",
       "      <td>718956</td>\n",
       "      <td>2017-01-22 11:45:11.327945</td>\n",
       "      <td>treatment</td>\n",
       "      <td>new_page</td>\n",
       "      <td>0</td>\n",
       "    </tr>\n",
       "    <tr>\n",
       "      <th>15</th>\n",
       "      <td>644214</td>\n",
       "      <td>2017-01-22 02:05:21.719434</td>\n",
       "      <td>control</td>\n",
       "      <td>old_page</td>\n",
       "      <td>1</td>\n",
       "    </tr>\n",
       "    <tr>\n",
       "      <th>16</th>\n",
       "      <td>847721</td>\n",
       "      <td>2017-01-17 14:01:00.090575</td>\n",
       "      <td>control</td>\n",
       "      <td>old_page</td>\n",
       "      <td>0</td>\n",
       "    </tr>\n",
       "    <tr>\n",
       "      <th>17</th>\n",
       "      <td>888545</td>\n",
       "      <td>2017-01-08 06:37:26.332945</td>\n",
       "      <td>treatment</td>\n",
       "      <td>new_page</td>\n",
       "      <td>1</td>\n",
       "    </tr>\n",
       "    <tr>\n",
       "      <th>18</th>\n",
       "      <td>650559</td>\n",
       "      <td>2017-01-24 11:55:51.084801</td>\n",
       "      <td>control</td>\n",
       "      <td>old_page</td>\n",
       "      <td>0</td>\n",
       "    </tr>\n",
       "    <tr>\n",
       "      <th>19</th>\n",
       "      <td>935734</td>\n",
       "      <td>2017-01-17 20:33:37.428378</td>\n",
       "      <td>control</td>\n",
       "      <td>old_page</td>\n",
       "      <td>0</td>\n",
       "    </tr>\n",
       "    <tr>\n",
       "      <th>20</th>\n",
       "      <td>740805</td>\n",
       "      <td>2017-01-12 18:59:45.453277</td>\n",
       "      <td>treatment</td>\n",
       "      <td>new_page</td>\n",
       "      <td>0</td>\n",
       "    </tr>\n",
       "    <tr>\n",
       "      <th>21</th>\n",
       "      <td>759875</td>\n",
       "      <td>2017-01-09 16:11:58.806110</td>\n",
       "      <td>treatment</td>\n",
       "      <td>new_page</td>\n",
       "      <td>0</td>\n",
       "    </tr>\n",
       "    <tr>\n",
       "      <th>22</th>\n",
       "      <td>767017</td>\n",
       "      <td>2017-01-12 22:58:14.991443</td>\n",
       "      <td>control</td>\n",
       "      <td>new_page</td>\n",
       "      <td>0</td>\n",
       "    </tr>\n",
       "    <tr>\n",
       "      <th>23</th>\n",
       "      <td>793849</td>\n",
       "      <td>2017-01-23 22:36:10.742811</td>\n",
       "      <td>treatment</td>\n",
       "      <td>new_page</td>\n",
       "      <td>0</td>\n",
       "    </tr>\n",
       "    <tr>\n",
       "      <th>24</th>\n",
       "      <td>905617</td>\n",
       "      <td>2017-01-20 14:12:19.345499</td>\n",
       "      <td>treatment</td>\n",
       "      <td>new_page</td>\n",
       "      <td>0</td>\n",
       "    </tr>\n",
       "    <tr>\n",
       "      <th>25</th>\n",
       "      <td>746742</td>\n",
       "      <td>2017-01-23 11:38:29.592148</td>\n",
       "      <td>control</td>\n",
       "      <td>old_page</td>\n",
       "      <td>0</td>\n",
       "    </tr>\n",
       "    <tr>\n",
       "      <th>26</th>\n",
       "      <td>892356</td>\n",
       "      <td>2017-01-05 09:35:14.904865</td>\n",
       "      <td>treatment</td>\n",
       "      <td>new_page</td>\n",
       "      <td>1</td>\n",
       "    </tr>\n",
       "    <tr>\n",
       "      <th>27</th>\n",
       "      <td>773302</td>\n",
       "      <td>2017-01-12 08:29:49.810594</td>\n",
       "      <td>treatment</td>\n",
       "      <td>new_page</td>\n",
       "      <td>0</td>\n",
       "    </tr>\n",
       "    <tr>\n",
       "      <th>28</th>\n",
       "      <td>913579</td>\n",
       "      <td>2017-01-24 09:11:39.164256</td>\n",
       "      <td>control</td>\n",
       "      <td>old_page</td>\n",
       "      <td>1</td>\n",
       "    </tr>\n",
       "    <tr>\n",
       "      <th>29</th>\n",
       "      <td>736159</td>\n",
       "      <td>2017-01-06 01:50:21.318242</td>\n",
       "      <td>treatment</td>\n",
       "      <td>new_page</td>\n",
       "      <td>0</td>\n",
       "    </tr>\n",
       "  </tbody>\n",
       "</table>\n",
       "</div>"
      ],
      "text/plain": [
       "    user_id                   timestamp      group landing_page  converted\n",
       "0    851104  2017-01-21 22:11:48.556739    control     old_page          0\n",
       "1    804228  2017-01-12 08:01:45.159739    control     old_page          0\n",
       "2    661590  2017-01-11 16:55:06.154213  treatment     new_page          0\n",
       "3    853541  2017-01-08 18:28:03.143765  treatment     new_page          0\n",
       "4    864975  2017-01-21 01:52:26.210827    control     old_page          1\n",
       "5    936923  2017-01-10 15:20:49.083499    control     old_page          0\n",
       "6    679687  2017-01-19 03:26:46.940749  treatment     new_page          1\n",
       "7    719014  2017-01-17 01:48:29.539573    control     old_page          0\n",
       "8    817355  2017-01-04 17:58:08.979471  treatment     new_page          1\n",
       "9    839785  2017-01-15 18:11:06.610965  treatment     new_page          1\n",
       "10   929503  2017-01-18 05:37:11.527370  treatment     new_page          0\n",
       "11   834487  2017-01-21 22:37:47.774891  treatment     new_page          0\n",
       "12   803683  2017-01-09 06:05:16.222706  treatment     new_page          0\n",
       "13   944475  2017-01-22 01:31:09.573836  treatment     new_page          0\n",
       "14   718956  2017-01-22 11:45:11.327945  treatment     new_page          0\n",
       "15   644214  2017-01-22 02:05:21.719434    control     old_page          1\n",
       "16   847721  2017-01-17 14:01:00.090575    control     old_page          0\n",
       "17   888545  2017-01-08 06:37:26.332945  treatment     new_page          1\n",
       "18   650559  2017-01-24 11:55:51.084801    control     old_page          0\n",
       "19   935734  2017-01-17 20:33:37.428378    control     old_page          0\n",
       "20   740805  2017-01-12 18:59:45.453277  treatment     new_page          0\n",
       "21   759875  2017-01-09 16:11:58.806110  treatment     new_page          0\n",
       "22   767017  2017-01-12 22:58:14.991443    control     new_page          0\n",
       "23   793849  2017-01-23 22:36:10.742811  treatment     new_page          0\n",
       "24   905617  2017-01-20 14:12:19.345499  treatment     new_page          0\n",
       "25   746742  2017-01-23 11:38:29.592148    control     old_page          0\n",
       "26   892356  2017-01-05 09:35:14.904865  treatment     new_page          1\n",
       "27   773302  2017-01-12 08:29:49.810594  treatment     new_page          0\n",
       "28   913579  2017-01-24 09:11:39.164256    control     old_page          1\n",
       "29   736159  2017-01-06 01:50:21.318242  treatment     new_page          0"
      ]
     },
     "execution_count": 62,
     "metadata": {},
     "output_type": "execute_result"
    }
   ],
   "source": [
    "df = pd.read_csv(\"ab_data.csv\")\n",
    "df.head(30)"
   ]
  },
  {
   "cell_type": "markdown",
   "metadata": {},
   "source": [
    "b. Use the below cell to find the number of rows in the dataset."
   ]
  },
  {
   "cell_type": "code",
   "execution_count": 63,
   "metadata": {},
   "outputs": [
    {
     "data": {
      "text/plain": [
       "294478"
      ]
     },
     "execution_count": 63,
     "metadata": {},
     "output_type": "execute_result"
    }
   ],
   "source": [
    "df.shape[0]"
   ]
  },
  {
   "cell_type": "markdown",
   "metadata": {},
   "source": [
    "c. The number of unique users in the dataset."
   ]
  },
  {
   "cell_type": "code",
   "execution_count": 64,
   "metadata": {},
   "outputs": [
    {
     "data": {
      "text/plain": [
       "290584"
      ]
     },
     "execution_count": 64,
     "metadata": {},
     "output_type": "execute_result"
    }
   ],
   "source": [
    "df['user_id'].nunique()\n",
    "# and can use it \"len(df.user_id.unique())\" as well"
   ]
  },
  {
   "cell_type": "markdown",
   "metadata": {
    "collapsed": true
   },
   "source": [
    "d. The proportion of users converted."
   ]
  },
  {
   "cell_type": "code",
   "execution_count": 65,
   "metadata": {},
   "outputs": [
    {
     "data": {
      "text/plain": [
       "0.11965919355605512"
      ]
     },
     "execution_count": 65,
     "metadata": {},
     "output_type": "execute_result"
    }
   ],
   "source": [
    "df.query('converted == \"1\"').shape[0] /df['converted'].shape[0]"
   ]
  },
  {
   "cell_type": "markdown",
   "metadata": {
    "collapsed": true
   },
   "source": [
    "e. The number of times the `new_page` and `treatment` don't line up."
   ]
  },
  {
   "cell_type": "code",
   "execution_count": 66,
   "metadata": {},
   "outputs": [
    {
     "data": {
      "text/plain": [
       "3893"
      ]
     },
     "execution_count": 66,
     "metadata": {},
     "output_type": "execute_result"
    }
   ],
   "source": [
    "no_new_treat= df.query('(group == \"control\" and landing_page == \"new_page\") or (group == \"treatment\" and landing_page == \"old_page\")')\n",
    "#len(no_new_treat)\n",
    "no_new_treat.shape[0]"
   ]
  },
  {
   "cell_type": "markdown",
   "metadata": {},
   "source": [
    "f. Do any of the rows have missing values?"
   ]
  },
  {
   "cell_type": "code",
   "execution_count": 67,
   "metadata": {},
   "outputs": [
    {
     "data": {
      "text/plain": [
       "user_id         0\n",
       "timestamp       0\n",
       "group           0\n",
       "landing_page    0\n",
       "converted       0\n",
       "dtype: int64"
      ]
     },
     "execution_count": 67,
     "metadata": {},
     "output_type": "execute_result"
    }
   ],
   "source": [
    "no_new_treat.isna().sum()"
   ]
  },
  {
   "cell_type": "markdown",
   "metadata": {},
   "source": [
    "No missing values"
   ]
  },
  {
   "cell_type": "markdown",
   "metadata": {},
   "source": [
    "`2.` For the rows where **treatment** is not aligned with **new_page** or **control** is not aligned with **old_page**, we cannot be sure if this row truly received the new or old page.  Use **Quiz 2** in the classroom to provide how we should handle these rows.  \n",
    "\n",
    "a. Now use the answer to the quiz to create a new dataset that meets the specifications from the quiz.  Store your new dataframe in **df2**."
   ]
  },
  {
   "cell_type": "code",
   "execution_count": 68,
   "metadata": {},
   "outputs": [
    {
     "data": {
      "text/plain": [
       "(290585, 5)"
      ]
     },
     "execution_count": 68,
     "metadata": {},
     "output_type": "execute_result"
    }
   ],
   "source": [
    "df2 = df.drop(no_new_treat.index)\n",
    "len(df2.query('(group == \"control\" and landing_page == \"new_page\") or (group == \"treatment\" and landing_page == \"old_page\")')\n",
    ")\n",
    "\n",
    "df2.shape"
   ]
  },
  {
   "cell_type": "code",
   "execution_count": 69,
   "metadata": {},
   "outputs": [
    {
     "data": {
      "text/plain": [
       "0"
      ]
     },
     "execution_count": 69,
     "metadata": {},
     "output_type": "execute_result"
    }
   ],
   "source": [
    "# Double Check all of the correct rows were removed - this should be 0\n",
    "df2[((df2['group'] == 'treatment') == (df2['landing_page'] == 'new_page')) == False].shape[0]"
   ]
  },
  {
   "cell_type": "markdown",
   "metadata": {},
   "source": [
    "`3.` Use **df2** and the cells below to answer questions for **Quiz3** in the classroom."
   ]
  },
  {
   "cell_type": "markdown",
   "metadata": {},
   "source": [
    "a. How many unique **user_id**s are in **df2**?"
   ]
  },
  {
   "cell_type": "code",
   "execution_count": 70,
   "metadata": {},
   "outputs": [
    {
     "data": {
      "text/plain": [
       "290584"
      ]
     },
     "execution_count": 70,
     "metadata": {},
     "output_type": "execute_result"
    }
   ],
   "source": [
    "df2['user_id'].nunique()"
   ]
  },
  {
   "cell_type": "markdown",
   "metadata": {
    "collapsed": true
   },
   "source": [
    "b. There is one **user_id** repeated in **df2**.  What is it?"
   ]
  },
  {
   "cell_type": "code",
   "execution_count": 71,
   "metadata": {},
   "outputs": [
    {
     "data": {
      "text/plain": [
       "array([773192], dtype=int64)"
      ]
     },
     "execution_count": 71,
     "metadata": {},
     "output_type": "execute_result"
    }
   ],
   "source": [
    "df2[df2.duplicated(['user_id'])]['user_id'].unique()"
   ]
  },
  {
   "cell_type": "markdown",
   "metadata": {},
   "source": [
    "c. What is the row information for the repeat **user_id**? "
   ]
  },
  {
   "cell_type": "code",
   "execution_count": 72,
   "metadata": {},
   "outputs": [
    {
     "data": {
      "text/html": [
       "<div>\n",
       "<style scoped>\n",
       "    .dataframe tbody tr th:only-of-type {\n",
       "        vertical-align: middle;\n",
       "    }\n",
       "\n",
       "    .dataframe tbody tr th {\n",
       "        vertical-align: top;\n",
       "    }\n",
       "\n",
       "    .dataframe thead th {\n",
       "        text-align: right;\n",
       "    }\n",
       "</style>\n",
       "<table border=\"1\" class=\"dataframe\">\n",
       "  <thead>\n",
       "    <tr style=\"text-align: right;\">\n",
       "      <th></th>\n",
       "      <th>user_id</th>\n",
       "      <th>timestamp</th>\n",
       "      <th>group</th>\n",
       "      <th>landing_page</th>\n",
       "      <th>converted</th>\n",
       "    </tr>\n",
       "  </thead>\n",
       "  <tbody>\n",
       "    <tr>\n",
       "      <th>1899</th>\n",
       "      <td>773192</td>\n",
       "      <td>2017-01-09 05:37:58.781806</td>\n",
       "      <td>treatment</td>\n",
       "      <td>new_page</td>\n",
       "      <td>0</td>\n",
       "    </tr>\n",
       "    <tr>\n",
       "      <th>2893</th>\n",
       "      <td>773192</td>\n",
       "      <td>2017-01-14 02:55:59.590927</td>\n",
       "      <td>treatment</td>\n",
       "      <td>new_page</td>\n",
       "      <td>0</td>\n",
       "    </tr>\n",
       "  </tbody>\n",
       "</table>\n",
       "</div>"
      ],
      "text/plain": [
       "      user_id                   timestamp      group landing_page  converted\n",
       "1899   773192  2017-01-09 05:37:58.781806  treatment     new_page          0\n",
       "2893   773192  2017-01-14 02:55:59.590927  treatment     new_page          0"
      ]
     },
     "execution_count": 72,
     "metadata": {},
     "output_type": "execute_result"
    }
   ],
   "source": [
    "df2[df2.duplicated(['user_id'], keep = False)]"
   ]
  },
  {
   "cell_type": "markdown",
   "metadata": {},
   "source": [
    "d. Remove **one** of the rows with a duplicate **user_id**, but keep your dataframe as **df2**."
   ]
  },
  {
   "cell_type": "code",
   "execution_count": 73,
   "metadata": {},
   "outputs": [
    {
     "data": {
      "text/html": [
       "<div>\n",
       "<style scoped>\n",
       "    .dataframe tbody tr th:only-of-type {\n",
       "        vertical-align: middle;\n",
       "    }\n",
       "\n",
       "    .dataframe tbody tr th {\n",
       "        vertical-align: top;\n",
       "    }\n",
       "\n",
       "    .dataframe thead th {\n",
       "        text-align: right;\n",
       "    }\n",
       "</style>\n",
       "<table border=\"1\" class=\"dataframe\">\n",
       "  <thead>\n",
       "    <tr style=\"text-align: right;\">\n",
       "      <th></th>\n",
       "      <th>user_id</th>\n",
       "      <th>timestamp</th>\n",
       "      <th>group</th>\n",
       "      <th>landing_page</th>\n",
       "      <th>converted</th>\n",
       "    </tr>\n",
       "  </thead>\n",
       "  <tbody>\n",
       "    <tr>\n",
       "      <th>0</th>\n",
       "      <td>851104</td>\n",
       "      <td>2017-01-21 22:11:48.556739</td>\n",
       "      <td>control</td>\n",
       "      <td>old_page</td>\n",
       "      <td>0</td>\n",
       "    </tr>\n",
       "    <tr>\n",
       "      <th>1</th>\n",
       "      <td>804228</td>\n",
       "      <td>2017-01-12 08:01:45.159739</td>\n",
       "      <td>control</td>\n",
       "      <td>old_page</td>\n",
       "      <td>0</td>\n",
       "    </tr>\n",
       "    <tr>\n",
       "      <th>2</th>\n",
       "      <td>661590</td>\n",
       "      <td>2017-01-11 16:55:06.154213</td>\n",
       "      <td>treatment</td>\n",
       "      <td>new_page</td>\n",
       "      <td>0</td>\n",
       "    </tr>\n",
       "    <tr>\n",
       "      <th>3</th>\n",
       "      <td>853541</td>\n",
       "      <td>2017-01-08 18:28:03.143765</td>\n",
       "      <td>treatment</td>\n",
       "      <td>new_page</td>\n",
       "      <td>0</td>\n",
       "    </tr>\n",
       "    <tr>\n",
       "      <th>4</th>\n",
       "      <td>864975</td>\n",
       "      <td>2017-01-21 01:52:26.210827</td>\n",
       "      <td>control</td>\n",
       "      <td>old_page</td>\n",
       "      <td>1</td>\n",
       "    </tr>\n",
       "  </tbody>\n",
       "</table>\n",
       "</div>"
      ],
      "text/plain": [
       "   user_id                   timestamp      group landing_page  converted\n",
       "0   851104  2017-01-21 22:11:48.556739    control     old_page          0\n",
       "1   804228  2017-01-12 08:01:45.159739    control     old_page          0\n",
       "2   661590  2017-01-11 16:55:06.154213  treatment     new_page          0\n",
       "3   853541  2017-01-08 18:28:03.143765  treatment     new_page          0\n",
       "4   864975  2017-01-21 01:52:26.210827    control     old_page          1"
      ]
     },
     "execution_count": 73,
     "metadata": {},
     "output_type": "execute_result"
    }
   ],
   "source": [
    "df2 = df2.drop_duplicates(['user_id'], keep = 'first')\n",
    "df2.shape\n",
    "df2.head(5)"
   ]
  },
  {
   "cell_type": "code",
   "execution_count": 74,
   "metadata": {},
   "outputs": [
    {
     "name": "stdout",
     "output_type": "stream",
     "text": [
      "<class 'pandas.core.frame.DataFrame'>\n",
      "Int64Index: 290584 entries, 0 to 294477\n",
      "Data columns (total 5 columns):\n",
      " #   Column        Non-Null Count   Dtype \n",
      "---  ------        --------------   ----- \n",
      " 0   user_id       290584 non-null  int64 \n",
      " 1   timestamp     290584 non-null  object\n",
      " 2   group         290584 non-null  object\n",
      " 3   landing_page  290584 non-null  object\n",
      " 4   converted     290584 non-null  int64 \n",
      "dtypes: int64(2), object(3)\n",
      "memory usage: 13.3+ MB\n"
     ]
    }
   ],
   "source": [
    "df2.info()"
   ]
  },
  {
   "cell_type": "markdown",
   "metadata": {},
   "source": [
    "`4.` Use **df2** in the below cells to answer the quiz questions related to **Quiz 4** in the classroom.\n",
    "\n",
    "a. What is the probability of an individual converting regardless of the page they receive?"
   ]
  },
  {
   "cell_type": "code",
   "execution_count": 75,
   "metadata": {},
   "outputs": [
    {
     "data": {
      "text/plain": [
       "0.11959708724499628"
      ]
     },
     "execution_count": 75,
     "metadata": {},
     "output_type": "execute_result"
    }
   ],
   "source": [
    "df2.query('converted == \"1\"').shape[0]/ df2.shape[0]"
   ]
  },
  {
   "cell_type": "markdown",
   "metadata": {},
   "source": [
    "b. Given that an individual was in the `control` group, what is the probability they converted?"
   ]
  },
  {
   "cell_type": "code",
   "execution_count": 76,
   "metadata": {},
   "outputs": [
    {
     "data": {
      "text/plain": [
       "0.1203863045004612"
      ]
     },
     "execution_count": 76,
     "metadata": {},
     "output_type": "execute_result"
    }
   ],
   "source": [
    "p_control = df2.query('converted == \"1\" and group == \"control\"').shape[0] / df2.query('group == \"control\"').shape[0]\n",
    "p_control"
   ]
  },
  {
   "cell_type": "markdown",
   "metadata": {},
   "source": [
    "c. Given that an individual was in the `treatment` group, what is the probability they converted?"
   ]
  },
  {
   "cell_type": "code",
   "execution_count": 77,
   "metadata": {},
   "outputs": [
    {
     "data": {
      "text/plain": [
       "0.11880806551510564"
      ]
     },
     "execution_count": 77,
     "metadata": {},
     "output_type": "execute_result"
    }
   ],
   "source": [
    "p_treatment = df2.query('converted == \"1\" and group == \"treatment\"').shape[0] / df2.query('group == \"treatment\"').shape[0]\n",
    "p_treatment"
   ]
  },
  {
   "cell_type": "markdown",
   "metadata": {},
   "source": [
    "d. What is the probability that an individual received the new page?"
   ]
  },
  {
   "cell_type": "code",
   "execution_count": 78,
   "metadata": {},
   "outputs": [
    {
     "data": {
      "text/plain": [
       "0.5000619442226688"
      ]
     },
     "execution_count": 78,
     "metadata": {},
     "output_type": "execute_result"
    }
   ],
   "source": [
    "df2.query('landing_page == \"new_page\"').shape[0] / df2.shape[0]"
   ]
  },
  {
   "cell_type": "markdown",
   "metadata": {},
   "source": [
    "e. Consider your results from a. through d. above, and explain below whether you think there is sufficient evidence to say that the new treatment page leads to more conversions."
   ]
  },
  {
   "cell_type": "markdown",
   "metadata": {},
   "source": [
    "**NOTE** Users who recieve new page and old page are divided equally.\n",
    "* All conversion are around 12% either control or treatment group\n",
    "* Number of they converted to a new page in control group is 12%\n",
    "* Number of they converted to a new page in treatment group is 11.9%\n",
    "* As we see from last points, we found no evidence to say that the new treatment page leads to more conversions.\n"
   ]
  },
  {
   "cell_type": "markdown",
   "metadata": {},
   "source": [
    "<a id='ab_test'></a>\n",
    "### Part II - A/B Test\n",
    "\n",
    "Notice that because of the time stamp associated with each event, you could technically run a hypothesis test continuously as each observation was observed.  \n",
    "\n",
    "However, then the hard question is do you stop as soon as one page is considered significantly better than another or does it need to happen consistently for a certain amount of time?  How long do you run to render a decision that neither page is better than another?  \n",
    "\n",
    "These questions are the difficult parts associated with A/B tests in general.  \n",
    "\n",
    "\n",
    "`1.` For now, consider you need to make the decision just based on all the data provided.  If you want to assume that the old page is better unless the new page proves to be definitely better at a Type I error rate of 5%, what should your null and alternative hypotheses be?  You can state your hypothesis in terms of words or in terms of **$p_{old}$** and **$p_{new}$**, which are the converted rates for the old and new pages."
   ]
  },
  {
   "cell_type": "markdown",
   "metadata": {},
   "source": [
    "**Put your answer here.**\n",
    "- Null: P𝑛𝑒𝑤 - P𝑜𝑙𝑑 <= 0\n",
    "- Alternative: P𝑛𝑒𝑤 - P𝑜𝑙𝑑 > 0"
   ]
  },
  {
   "cell_type": "markdown",
   "metadata": {},
   "source": [
    "`2.` Assume under the null hypothesis, $p_{new}$ and $p_{old}$ both have \"true\" success rates equal to the **converted** success rate regardless of page - that is $p_{new}$ and $p_{old}$ are equal. Furthermore, assume they are equal to the **converted** rate in **ab_data.csv** regardless of the page. <br><br>\n",
    "\n",
    "Use a sample size for each page equal to the ones in **ab_data.csv**.  <br><br>\n",
    "\n",
    "Perform the sampling distribution for the difference in **converted** between the two pages over 10,000 iterations of calculating an estimate from the null.  <br><br>\n",
    "\n",
    "Use the cells below to provide the necessary parts of this simulation.  If this doesn't make complete sense right now, don't worry - you are going to work through the problems below to complete this problem.  You can use **Quiz 5** in the classroom to make sure you are on the right track.<br><br>"
   ]
  },
  {
   "cell_type": "markdown",
   "metadata": {},
   "source": [
    "a. What is the **convert rate** for $p_{new}$ under the null? "
   ]
  },
  {
   "cell_type": "code",
   "execution_count": 79,
   "metadata": {},
   "outputs": [
    {
     "data": {
      "text/plain": [
       "0.11959708724499628"
      ]
     },
     "execution_count": 79,
     "metadata": {},
     "output_type": "execute_result"
    }
   ],
   "source": [
    "Pnew = df2['converted'].mean()\n",
    "Pnew"
   ]
  },
  {
   "cell_type": "markdown",
   "metadata": {},
   "source": [
    "b. What is the **convert rate** for $p_{old}$ under the null? <br><br>"
   ]
  },
  {
   "cell_type": "code",
   "execution_count": 80,
   "metadata": {},
   "outputs": [
    {
     "data": {
      "text/plain": [
       "0.11959708724499628"
      ]
     },
     "execution_count": 80,
     "metadata": {},
     "output_type": "execute_result"
    }
   ],
   "source": [
    "Pold = df2['converted'].mean()\n",
    "Pold"
   ]
  },
  {
   "cell_type": "markdown",
   "metadata": {},
   "source": [
    "c. What is $n_{new}$?"
   ]
  },
  {
   "cell_type": "code",
   "execution_count": 81,
   "metadata": {},
   "outputs": [
    {
     "data": {
      "text/plain": [
       "145310"
      ]
     },
     "execution_count": 81,
     "metadata": {},
     "output_type": "execute_result"
    }
   ],
   "source": [
    "Nnew = df2.query('group == \"treatment\"').shape[0]\n",
    "Nnew"
   ]
  },
  {
   "cell_type": "markdown",
   "metadata": {},
   "source": [
    "d. What is $n_{old}$?"
   ]
  },
  {
   "cell_type": "code",
   "execution_count": 82,
   "metadata": {},
   "outputs": [
    {
     "data": {
      "text/plain": [
       "145274"
      ]
     },
     "execution_count": 82,
     "metadata": {},
     "output_type": "execute_result"
    }
   ],
   "source": [
    "Nold = df2.query('group == \"control\"').shape[0]\n",
    "Nold"
   ]
  },
  {
   "cell_type": "markdown",
   "metadata": {},
   "source": [
    "e. Simulate $n_{new}$ transactions with a convert rate of $p_{new}$ under the null.  Store these $n_{new}$ 1's and 0's in **new_page_converted**."
   ]
  },
  {
   "cell_type": "code",
   "execution_count": 83,
   "metadata": {},
   "outputs": [
    {
     "data": {
      "text/plain": [
       "17338"
      ]
     },
     "execution_count": 83,
     "metadata": {},
     "output_type": "execute_result"
    }
   ],
   "source": [
    "new_page_converted = np.random.binomial(Nnew, Pnew)\n",
    "new_page_converted"
   ]
  },
  {
   "cell_type": "markdown",
   "metadata": {},
   "source": [
    "f. Simulate $n_{old}$ transactions with a convert rate of $p_{old}$ under the null.  Store these $n_{old}$ 1's and 0's in **old_page_converted**."
   ]
  },
  {
   "cell_type": "code",
   "execution_count": 84,
   "metadata": {},
   "outputs": [
    {
     "data": {
      "text/plain": [
       "17547"
      ]
     },
     "execution_count": 84,
     "metadata": {},
     "output_type": "execute_result"
    }
   ],
   "source": [
    "old_page_converted = np.random.binomial(Nold,Pold)\n",
    "old_page_converted"
   ]
  },
  {
   "cell_type": "markdown",
   "metadata": {},
   "source": [
    "g. Find $p_{new}$ - $p_{old}$ for your simulated values from part (e) and (f)."
   ]
  },
  {
   "cell_type": "code",
   "execution_count": 85,
   "metadata": {},
   "outputs": [
    {
     "data": {
      "text/plain": [
       "-0.00146822847568856"
      ]
     },
     "execution_count": 85,
     "metadata": {},
     "output_type": "execute_result"
    }
   ],
   "source": [
    "new_page_converted/Nnew - old_page_converted/Nold\n"
   ]
  },
  {
   "cell_type": "markdown",
   "metadata": {},
   "source": [
    "h. Simulate 10,000 $p_{new}$ - $p_{old}$ values using this same process similarly to the one you calculated in parts **a. through g.** above.  Store all 10,000 values in a numpy array called **p_diffs**."
   ]
  },
  {
   "cell_type": "code",
   "execution_count": 86,
   "metadata": {},
   "outputs": [
    {
     "data": {
      "text/plain": [
       "[3.922506964684769e-05,\n",
       " -0.0003119397122003098,\n",
       " -0.0009380301512727368,\n",
       " 7.358821874214883e-05,\n",
       " -0.00011229987670341446,\n",
       " 0.0013744024190920218,\n",
       " 0.0013605773480488553,\n",
       " 0.0008031808051009032,\n",
       " -0.00039446038473983647,\n",
       " -0.003491792647123626,\n",
       " 0.0003829998118396738,\n",
       " -0.001605708358020208,\n",
       " -0.0011862453263300071,\n",
       " 0.0001560321495460565,\n",
       " -0.002562488599648055,\n",
       " 0.000259252910468466,\n",
       " -0.0004357718821666884,\n",
       " 0.00041084266095101074,\n",
       " -0.000835167518449878,\n",
       " 5.977679067420416e-05,\n",
       " -0.00036678977819067093,\n",
       " 0.00034204303176858797,\n",
       " -0.0004771652374448432,\n",
       " -0.0015505871378973246,\n",
       " 0.00024585759314475764,\n",
       " 0.00024574503859918495,\n",
       " 0.0021108410314681636,\n",
       " -0.0001672266844293946,\n",
       " 0.00010120084264661489,\n",
       " -0.0009727019726824132,\n",
       " 0.0022345299501946997,\n",
       " 0.0021800158424691574,\n",
       " -0.0009449392760505076,\n",
       " -0.00021540978845213665,\n",
       " -0.0012823608447058293,\n",
       " 0.0010232342265010519,\n",
       " 0.0013952338211114246,\n",
       " -0.0008350344994414588,\n",
       " 0.0006516984930482195,\n",
       " 0.000865146345869261,\n",
       " 0.0021798640643698325,\n",
       " -0.001991101564582362,\n",
       " -1.5909793451257537e-05,\n",
       " 0.0008859129437563396,\n",
       " 0.000417555667959979,\n",
       " -9.181466518025372e-05,\n",
       " 0.0010853140271868816,\n",
       " 0.00036939814451576736,\n",
       " 0.0019181887678565435,\n",
       " 0.0006516950823044071,\n",
       " -4.300057355351161e-05,\n",
       " -0.0008484912101536651,\n",
       " -0.0004012791248067804,\n",
       " 0.00045909056910607704,\n",
       " 0.0008857526387975045,\n",
       " -0.0009176745480141829,\n",
       " -0.002039361410340751,\n",
       " 0.0003901749746342831,\n",
       " -0.0002429865995466629,\n",
       " 0.0005554090267383266,\n",
       " 0.0006173353439529183,\n",
       " 0.002475396014523318,\n",
       " 0.0011197522126459025,\n",
       " -0.0014473834306939493,\n",
       " 0.0014640181019466986,\n",
       " -0.0011237698793627598,\n",
       " 0.0004523366331714296,\n",
       " -0.0006699300556020221,\n",
       " 0.0008516674653223366,\n",
       " -0.0012683771740757133,\n",
       " 0.00023877452043291614,\n",
       " 0.0006586025017102787,\n",
       " -0.0004976675026870242,\n",
       " -0.0004976419221084799,\n",
       " -0.0019842248418707326,\n",
       " 0.001174980871198647,\n",
       " 0.0008377724740311621,\n",
       " -0.0015439184705578202,\n",
       " 0.00013548554463439777,\n",
       " 0.00015598951524847804,\n",
       " -0.0008968073331848264,\n",
       " -0.00025689523381305923,\n",
       " 0.00032135147024521526,\n",
       " 0.00036957379782173727,\n",
       " -0.0007181711422694775,\n",
       " -0.0002913044279497373,\n",
       " -0.0011857558845939503,\n",
       " 0.0008582576855543089,\n",
       " 8.080431046240955e-05,\n",
       " 0.002689215638419132,\n",
       " 0.0010510685487528787,\n",
       " 0.0013123345560095145,\n",
       " -0.0004084525822294627,\n",
       " 0.0012508124119358366,\n",
       " 0.0007207198205779752,\n",
       " 0.0007135378362957828,\n",
       " 0.0007482642296063324,\n",
       " 0.0003350128255857343,\n",
       " 0.0004383427303099041,\n",
       " 0.0019868621995181857,\n",
       " -1.6005294277796067e-05,\n",
       " -0.0004011904454678389,\n",
       " -0.0010139606035802773,\n",
       " -0.0011307608619918613,\n",
       " 0.0009062020375106977,\n",
       " -0.0008966402067383666,\n",
       " -0.0009107210835669344,\n",
       " -0.000580166005391819,\n",
       " -0.00046334528251740226,\n",
       " -0.00022889037437098803,\n",
       " -0.0012891045484090535,\n",
       " 0.0004521115240802842,\n",
       " -0.0005251522236988104,\n",
       " -0.00018800180917599718,\n",
       " 0.0014846857882634401,\n",
       " 0.0018494897556163986,\n",
       " -0.0001330767068219163,\n",
       " -0.0008558369101385188,\n",
       " 0.0002662302501223318,\n",
       " 0.001987239086708656,\n",
       " -0.00011915442958031208,\n",
       " -0.0002773616862452727,\n",
       " -0.00031887612292853806,\n",
       " -0.0010413583506250074,\n",
       " -0.00102088337133327,\n",
       " 0.002152026331374207,\n",
       " 0.0010922998937002854,\n",
       " -0.001564574219271253,\n",
       " -0.0008829924943730832,\n",
       " -0.0012892290405579487,\n",
       " -0.00033946536213774747,\n",
       " 0.0023313804838605567,\n",
       " -0.0003046519948601556,\n",
       " -0.0006283900383402402,\n",
       " -8.491918337770465e-05,\n",
       " -0.001784736784473162,\n",
       " 0.0008237581067068039,\n",
       " -0.0015988384567961894,\n",
       " -2.9392084741994284e-05,\n",
       " -0.00033211113529339753,\n",
       " -7.11776755577681e-05,\n",
       " -0.000339170332798594,\n",
       " 0.0008033359939440404,\n",
       " -0.0013512099296734276,\n",
       " -0.0007730092706565161,\n",
       " 0.0005964289055697958,\n",
       " -0.0004630059135087572,\n",
       " 0.0009066931846186677,\n",
       " -0.0006902259708440051,\n",
       " -0.0003117759964976624,\n",
       " 8.727515466119828e-05,\n",
       " -0.00019495015750753408,\n",
       " 0.000596684711355211,\n",
       " 0.0011197129890921365,\n",
       " 0.0011958156839618483,\n",
       " 0.0009270266180424896,\n",
       " 0.0015601609062729782,\n",
       " 0.0006519389504864859,\n",
       " -0.0009931701304865398,\n",
       " -0.0010894493645650233,\n",
       " -0.0009930592813128664,\n",
       " -0.0008968073331848264,\n",
       " -0.00021548823555966878,\n",
       " -0.0003462551108823486,\n",
       " 0.00041105924318264597,\n",
       " 0.0003972324667675803,\n",
       " 0.0008030136786544434,\n",
       " 0.00038310213415385097,\n",
       " 8.720864515700255e-05,\n",
       " 0.0008443132384779589,\n",
       " -0.0001949075232099695,\n",
       " 0.00023216554110999654,\n",
       " -0.0012615209158269303,\n",
       " 0.00041071987417402867,\n",
       " -0.0006351968408038478,\n",
       " 0.0005277725276272016,\n",
       " 0.00025946608195628884,\n",
       " -0.001309680144643055,\n",
       " 0.001360637036065454,\n",
       " 0.0007274515866778769,\n",
       " 0.002214305660572638,\n",
       " -0.0008761976295127843,\n",
       " 0.0004795502000506796,\n",
       " 0.001250355372265921,\n",
       " 0.0011059134986275143,\n",
       " -0.00042884399829798414,\n",
       " -0.0013855730787687287,\n",
       " -0.0017640452229497894,\n",
       " -0.00023620026154587415,\n",
       " -0.00046330435359172306,\n",
       " 0.0013124880394807387,\n",
       " 3.235346305091591e-05,\n",
       " -6.409971896163824e-05,\n",
       " 0.0001698077648040336,\n",
       " -0.0002982630085126836,\n",
       " 0.000369471475507574,\n",
       " -0.00033258181793852093,\n",
       " 0.001587495554557311,\n",
       " -0.0008073570714046963,\n",
       " 0.00043148647206110724,\n",
       " 1.1346407725557062e-05,\n",
       " 0.0012642196668628536,\n",
       " 0.0013606609112720852,\n",
       " -0.0009246041372547725,\n",
       " 0.0006931600632024831,\n",
       " 0.0003077600351527182,\n",
       " -0.0005734683467299717,\n",
       " -0.00029091730852782993,\n",
       " -0.00044928316477975405,\n",
       " -0.0015507730234347178,\n",
       " 0.002090210863333289,\n",
       " 0.0004864763785474985,\n",
       " -0.0002225354954615566,\n",
       " 0.0004725916194877472,\n",
       " -0.000752483130207704,\n",
       " -0.0008072479276029221,\n",
       " 0.00026646559144490045,\n",
       " -0.0011242013384541172,\n",
       " 0.0016772613101394412,\n",
       " -0.0005528364732231839,\n",
       " -4.33109512398e-05,\n",
       " 0.0019659574665069762,\n",
       " -0.0018537035401020446,\n",
       " 0.0016289724730587235,\n",
       " 0.00016314421358024078,\n",
       " -0.0014064334721104604,\n",
       " -0.0008005468581972763,\n",
       " 0.0008030375538610746,\n",
       " 7.382356006471746e-05,\n",
       " 0.0008651958016544364,\n",
       " 0.0006378683058893414,\n",
       " -0.0007384431823048154,\n",
       " -1.5856926922283576e-05,\n",
       " 0.0015051232493733385,\n",
       " 0.0005621390874663151,\n",
       " 0.00017678169371411478,\n",
       " 8.042060178430066e-05,\n",
       " 0.0010924363234524892,\n",
       " 0.0013745320273566147,\n",
       " -0.00023607918014079132,\n",
       " 0.0006862202417304564,\n",
       " 0.0008651702210758921,\n",
       " -0.00027746741930324836,\n",
       " 0.0024204896712601703,\n",
       " 0.001353489159221316,\n",
       " 0.0003420566747438236,\n",
       " 0.0006862901619784645,\n",
       " 0.0023655645689060895,\n",
       " -0.00019487682651572746,\n",
       " -0.0005871024161200333,\n",
       " 0.0012160672595343397,\n",
       " -0.0003875785459124953,\n",
       " -0.00047060230316330054,\n",
       " 0.0008928527652283802,\n",
       " -0.0002362275474963177,\n",
       " 0.0029298395399375843,\n",
       " 0.0009956710583817613,\n",
       " -0.0002086575578894162,\n",
       " 0.0020145481544144583,\n",
       " 0.0007137237218331621,\n",
       " 0.0006860974549534604,\n",
       " 0.00045215245300594953,\n",
       " 0.00043162119644141184,\n",
       " 0.0016222372962150094,\n",
       " -0.0013375161722667672,\n",
       " 0.0006241506732760499,\n",
       " 0.0003835813436584845,\n",
       " -0.0002083761715254706,\n",
       " 5.301432788004656e-05,\n",
       " 6.663475429490029e-05,\n",
       " -0.0016885206491550758,\n",
       " -0.0006421400730196869,\n",
       " -0.00016054778485846688,\n",
       " -0.00014674658902194548,\n",
       " 0.00023871994853202905,\n",
       " 0.0016015576722949454,\n",
       " 5.3005801020536425e-05,\n",
       " -0.0004632514870627491,\n",
       " -0.00022912742106545592,\n",
       " -2.9576264907488214e-05,\n",
       " -0.0006490406709379615,\n",
       " 0.00129198918498237,\n",
       " -0.0003741030761093833,\n",
       " 6.688032784887832e-05,\n",
       " -0.0010688959381657537,\n",
       " 0.000328061066510385,\n",
       " 0.0005275764098584129,\n",
       " 0.00014259760866859594,\n",
       " 0.0006036143005958006,\n",
       " -8.475887841885577e-05,\n",
       " -0.000628326939579843,\n",
       " -0.0005870853624010131,\n",
       " 0.0002320512811925246,\n",
       " -0.0012479908741229173,\n",
       " -0.000435545067703616,\n",
       " -0.000545773864974175,\n",
       " -2.2754114096731892e-05,\n",
       " 0.0025927778047537126,\n",
       " -0.000160249344775501,\n",
       " 0.0005621561411853354,\n",
       " 0.0001769317664415404,\n",
       " -0.0010687714460168724,\n",
       " -0.0010685241670909812,\n",
       " 0.0012846537172289396,\n",
       " -0.002273522994519897,\n",
       " -5.726733591947253e-05,\n",
       " -0.0004149200156844529,\n",
       " 0.0015191376166976966,\n",
       " -0.0024591194713701053,\n",
       " -9.065472805783181e-06,\n",
       " 0.002331204830554587,\n",
       " 0.00012195209218658631,\n",
       " -6.408948673021497e-05,\n",
       " -0.00022244511075071582,\n",
       " -0.0014473015728426186,\n",
       " -0.0019915347290456326,\n",
       " 0.0008374706232043977,\n",
       " -0.0009173044823112958,\n",
       " 0.0008100490009530226,\n",
       " 0.0013747162075221087,\n",
       " 0.00085858852770343,\n",
       " 0.0007685482072449928,\n",
       " 0.00020415386018031445,\n",
       " 0.002275711839356931,\n",
       " -0.0018881110288668096,\n",
       " -0.0009865338652131767,\n",
       " -9.142584038644708e-05,\n",
       " 0.0007756568605353786,\n",
       " 0.00012860541117896973,\n",
       " 0.0001837453903927727,\n",
       " 0.0011404164882188456,\n",
       " -0.0008489431337078551,\n",
       " 0.0009410853250363116,\n",
       " -0.001165013161913489,\n",
       " 0.0006172364323825535,\n",
       " -0.0014062680510359138,\n",
       " -0.0011036479120548615,\n",
       " -0.00016719257699134016,\n",
       " -0.0002774026151709519,\n",
       " 4.612737293700764e-05,\n",
       " -0.001475086439309256,\n",
       " 0.002159034367722343,\n",
       " -0.0001812990343984383,\n",
       " 5.290688945018551e-05,\n",
       " -0.0005873940347153744,\n",
       " -0.001653876113695843,\n",
       " -0.0005182124022267698,\n",
       " -0.0006628759742125234,\n",
       " -0.0016678239715160054,\n",
       " 0.000424567115051927,\n",
       " -0.0012408873369482432,\n",
       " 0.0005967051758180297,\n",
       " 0.0004040239208840807,\n",
       " -0.00195671454028043,\n",
       " -0.0012753442814981836,\n",
       " -0.0004702100676256954,\n",
       " -0.00044274410570485645,\n",
       " -0.0011515479243417864,\n",
       " 0.00045902747034566593,\n",
       " 0.00038290431101313527,\n",
       " -0.0011032710248643912,\n",
       " 0.001553347282321746,\n",
       " 0.0003351594875693614,\n",
       " 1.1438497808310966e-05,\n",
       " 1.8342506470370168e-05,\n",
       " 0.0017254495302779088,\n",
       " -0.0015508310060794034,\n",
       " -2.2825455488068025e-06,\n",
       " -0.00018108245216680308,\n",
       " -0.001006962799463551,\n",
       " 0.0007135583007586016,\n",
       " 0.0012504525784643727,\n",
       " 8.727003854548665e-05,\n",
       " 0.00041090064359569634,\n",
       " -0.0004634373726001284,\n",
       " -0.0016746000772853709,\n",
       " -0.0010278112552019741,\n",
       " -0.00042885423052937965,\n",
       " -0.0002499571177129317,\n",
       " 0.0013673824451405775,\n",
       " 0.0009751125158667939,\n",
       " -0.0001466084538978285,\n",
       " -0.0013166847702473783,\n",
       " -0.0018260602195033226,\n",
       " 0.0005212863350812919,\n",
       " -0.00020878716615400916,\n",
       " -0.0001398715716822152,\n",
       " 0.0010645781259940451,\n",
       " -0.0005663511665800758,\n",
       " 0.0010992209560813787,\n",
       " -0.0007937588148245883,\n",
       " -0.0017570030791635993,\n",
       " 0.0023796454457346433,\n",
       " 8.728879763642006e-05,\n",
       " 0.0007203889784288681,\n",
       " -0.0015643763961305374,\n",
       " -0.00013299825971439805,\n",
       " 0.0010852884466083373,\n",
       " 0.000514261245014136,\n",
       " 3.9479170060335855e-05,\n",
       " 0.0009064100928828228,\n",
       " 1.8472114734977008e-05,\n",
       " 0.0007412306126796664,\n",
       " 0.0012091683669879921,\n",
       " -3.63046202635775e-05,\n",
       " 0.0014087297553773692,\n",
       " -0.0003119175423655779,\n",
       " 0.0005484879643572194,\n",
       " 0.0014914908853551762,\n",
       " -0.0014747675347634576,\n",
       " 0.0013881848558376236,\n",
       " -0.0011927673316858844,\n",
       " 0.00044527743566621925,\n",
       " -0.0007662263433995398,\n",
       " -0.0013580968846164804,\n",
       " -0.00023620878840538428,\n",
       " 0.0013536426426925402,\n",
       " -0.0008349816329124848,\n",
       " -0.00018793359429988832,\n",
       " -0.0003185759774736868,\n",
       " -0.002018796046338159,\n",
       " -0.0002775748577331094,\n",
       " -0.0011860594407926278,\n",
       " 0.000499994482648175,\n",
       " -0.0005389193120972774,\n",
       " -0.002266665030899201,\n",
       " 0.0015943040623928456,\n",
       " -0.0006420428668212352,\n",
       " -0.001977462379076589,\n",
       " 0.0003283083454362762,\n",
       " -0.0002841394973865513,\n",
       " -0.0015162529801243663,\n",
       " 0.0009614494551543756,\n",
       " 0.0006171767443659687,\n",
       " -0.003422892400998953,\n",
       " 0.000761937522550174,\n",
       " -0.0005593806484137931,\n",
       " -0.00030501182833160556,\n",
       " -0.00024308721648892695,\n",
       " -0.001020723066374421,\n",
       " 0.0002318977977212866,\n",
       " 0.0010784850548885283,\n",
       " -0.0002222438768662155,\n",
       " 0.0008787053788956029,\n",
       " 0.0008032848327869518,\n",
       " 0.0007825728068007465,\n",
       " -0.0012615072728517085,\n",
       " -0.0015990175208459717,\n",
       " -0.0007179545600378423,\n",
       " 0.0014639208957482608,\n",
       " -0.0003736682062742136,\n",
       " 0.00035566516355534095,\n",
       " 8.052804021417559e-05,\n",
       " 0.0002731598393629492,\n",
       " 0.00028708893809217817,\n",
       " 0.0008717979594897451,\n",
       " -0.0024591723378990793,\n",
       " -0.001633365321594138,\n",
       " 0.00023872677001963993,\n",
       " 0.0016568170275419458,\n",
       " 0.0009406658035482629,\n",
       " 0.00010122812859705843,\n",
       " -0.0011856791428583313,\n",
       " -0.000566535346745542,\n",
       " -0.00036695861000904384,\n",
       " 0.00047286447899216877,\n",
       " 0.0006586604843549643,\n",
       " 5.973245100474034e-05,\n",
       " -0.001151329636738252,\n",
       " 0.0009960104273903925,\n",
       " -0.0017089512887773495,\n",
       " 0.0005827436750226594,\n",
       " -0.0010756652224475222,\n",
       " -0.0007664633900940077,\n",
       " 0.0008100455902092102,\n",
       " 0.001305734103546119,\n",
       " 0.001987240792080569,\n",
       " -0.0018399910236044509,\n",
       " -0.00039435124093807616,\n",
       " 0.0011265402560186044,\n",
       " 0.0003216447942124834,\n",
       " 0.0009268816614307618,\n",
       " -0.0030027540420352883,\n",
       " -5.0361621885500196e-05,\n",
       " 0.002627028399303441,\n",
       " -0.001887776775973904,\n",
       " 0.001319347708473348,\n",
       " -4.326149545462454e-05,\n",
       " -0.00011245847629035022,\n",
       " -0.0006764844630240685,\n",
       " -0.00024284505367874742,\n",
       " 0.000954741564261119,\n",
       " 0.0002802872517442684,\n",
       " -0.000724618111261649,\n",
       " 0.0007069442053199843,\n",
       " -0.0017503702246340624,\n",
       " 0.0005623334998632185,\n",
       " 0.0008305393285918672,\n",
       " -0.00038064725129999255,\n",
       " 0.00010095185834882447,\n",
       " 5.310130184708883e-05,\n",
       " 0.0008994208156256206,\n",
       " 0.00022516944236518344,\n",
       " 0.00033523622930496655,\n",
       " 0.0011818115488689135,\n",
       " -0.0003184173778867233,\n",
       " -0.0009450467144803687,\n",
       " -0.0002086200397075494,\n",
       " -0.0008554361477413897,\n",
       " -8.447067056731317e-05,\n",
       " 0.00288857238218021,\n",
       " -0.00027057705361641093,\n",
       " -0.0021357173861548395,\n",
       " 0.0009612482212698614,\n",
       " 2.521411306628807e-05,\n",
       " 0.001023205235178709,\n",
       " -0.0006077121197920893,\n",
       " 0.0006518485657756451,\n",
       " 0.0011268404014734557,\n",
       " 0.00025960251170850657,\n",
       " 0.0003625896366802467,\n",
       " -0.0009449222223314874,\n",
       " 0.0025652333957253415,\n",
       " -0.001337246723506158,\n",
       " -0.001089469829027856,\n",
       " -5.028317477798194e-05,\n",
       " 0.0004386309381614467,\n",
       " 0.0020005815375033625,\n",
       " -0.00029140675026388674,\n",
       " -0.0004699593779560196,\n",
       " 0.002819569813741374,\n",
       " 0.001064484330539392,\n",
       " -8.46139218071279e-05,\n",
       " -0.0027002532790874473,\n",
       " -0.001289015869070112,\n",
       " -0.0009172925447079872,\n",
       " -0.0005389210174691766,\n",
       " -0.0007522205029346918,\n",
       " -0.0032369036886111258,\n",
       " -0.002335406677436924,\n",
       " 0.00043835807865702514,\n",
       " 0.0005553032936803509,\n",
       " 0.0012846298420222946,\n",
       " 0.002379411809783988,\n",
       " -0.00027059922345114285,\n",
       " 0.0008860868916904102,\n",
       " 0.0007895944861241039,\n",
       " -0.0008759895741406593,\n",
       " 0.001360974699702172,\n",
       " 0.0009201652436779811,\n",
       " 0.00173233136910525,\n",
       " 0.0009615398398652164,\n",
       " -0.0001604096497343499,\n",
       " -0.00027722525649306884,\n",
       " 0.0015808865752344192,\n",
       " -0.000683644277471529,\n",
       " 0.00028043902984360713,\n",
       " -0.0019084393461749338,\n",
       " 0.0014912691870078293,\n",
       " 0.0013950632839211524,\n",
       " -0.0006424351023588404,\n",
       " 0.0009065004775936636,\n",
       " -0.0027896097454129243,\n",
       " 0.0012368747863470975,\n",
       " -0.00010526796514864767,\n",
       " -0.000786493267319166,\n",
       " 0.0024964388826586303,\n",
       " -0.0010618623212390876,\n",
       " -0.0007110744265824143,\n",
       " -0.0008006218945609961,\n",
       " 0.00019742550482421128,\n",
       " 0.0011612427741225229,\n",
       " -0.0010692080212239413,\n",
       " 0.0005001854843012798,\n",
       " 0.0005967256402808624,\n",
       " 0.0023998032258524954,\n",
       " -0.00039437852688850583,\n",
       " -0.0034913287859660996,\n",
       " -0.0012410425257913804,\n",
       " -0.0017571343928001054,\n",
       " 0.00010116332446474807,\n",
       " 0.0013191635283078679,\n",
       " 0.0016291549478523043,\n",
       " 0.00016294809581142433,\n",
       " -0.0006008712098904134,\n",
       " 0.00018398584783105298,\n",
       " 0.0018698044299492733,\n",
       " -0.0006009752375764621,\n",
       " -0.0010001645238594536,\n",
       " 0.0012987959874459915,\n",
       " -0.0022322302561839785,\n",
       " -0.0020599847569880148,\n",
       " 0.0013951468471443823,\n",
       " 0.0003487935569594369,\n",
       " -0.00030510391841435947,\n",
       " 0.0012370146268431276,\n",
       " 0.0004247530005893202,\n",
       " -0.0005458676604288143,\n",
       " 0.0008929243908482876,\n",
       " 0.0006311979331779377,\n",
       " -0.002706891249732696,\n",
       " -6.408607598640259e-05,\n",
       " 0.0004795433785630687,\n",
       " -0.0004907651993968642,\n",
       " -0.0009174409120635135,\n",
       " 0.0018561516014682922,\n",
       " -0.0007867729483111846,\n",
       " -0.00024308210037320144,\n",
       " -0.0006009718268326636,\n",
       " -0.0012410646956261123,\n",
       " -0.0009177018339646126,\n",
       " 0.0005830250613865912,\n",
       " 0.0002799802848017924,\n",
       " 0.0005552572486389878,\n",
       " 0.0010164717637069082,\n",
       " 0.0016910778543230975,\n",
       " 0.0007067566144107057,\n",
       " -0.00013309034979713807,\n",
       " -0.0011928832969752556,\n",
       " 0.0007071420284607,\n",
       " -0.0001601470224613516,\n",
       " -0.0016471375261083304,\n",
       " -0.0008484383436246912,\n",
       " 0.0004245619989362154,\n",
       " -5.022519213328247e-05,\n",
       " -0.0002153756810140961,\n",
       " -7.782928917823839e-05,\n",
       " -0.0008899527803079288,\n",
       " -0.0005389448926758217,\n",
       " 0.0005278202780404917,\n",
       " -0.00018790971909325715,\n",
       " 0.0017253676724265782,\n",
       " 0.000493636192994959,\n",
       " 0.00036983983583854796,\n",
       " 0.0007686044845177653,\n",
       " 0.0016221537329917796,\n",
       " 0.00044551618773260027,\n",
       " 0.0005349050561242324,\n",
       " 0.0002320870940024783,\n",
       " 0.00088589418466542,\n",
       " 0.0018977478960028604,\n",
       " 0.0025305854495222962,\n",
       " 4.592272830869493e-05,\n",
       " 0.0006173455761843277,\n",
       " 0.0015466359806846908,\n",
       " -0.0005046823605227568,\n",
       " -0.0008074662152064704,\n",
       " 0.000617485416680344,\n",
       " -0.001172114993716264,\n",
       " 1.1980806073341732e-05,\n",
       " 0.0017255365042449372,\n",
       " -0.0018054112922775145,\n",
       " 1.154934698197052e-05,\n",
       " -0.00017431998937265936,\n",
       " 0.0007684680547655615,\n",
       " 0.00032150495371645327,\n",
       " -0.0006492384940786633,\n",
       " -0.0005735843120193429,\n",
       " -0.0018466017082992697,\n",
       " -0.0004081490260307852,\n",
       " -0.0015161660061573379,\n",
       " 0.0015947014140461624,\n",
       " -0.0008073945895865492,\n",
       " -0.0008074218755370066,\n",
       " 0.001518902275375128,\n",
       " -0.0010481378671381852,\n",
       " 5.312688242561925e-05,\n",
       " -0.00070405445263097,\n",
       " 0.0005691454184425376,\n",
       " -0.0005734632306142462,\n",
       " -0.0004150189272548177,\n",
       " -0.0020874490135369544,\n",
       " -0.00111706028309759,\n",
       " -0.0005526505876857907,\n",
       " 0.0010924772523781545,\n",
       " -0.0006695344093206185,\n",
       " -0.0008142065081658822,\n",
       " 0.001292064221346076,\n",
       " 0.00030780096407836965,\n",
       " 0.0007481755502674048,\n",
       " -0.000648974161433738,\n",
       " 0.0020489863398734792,\n",
       " -0.0018053601311204398,\n",
       " -0.0010001525862561311,\n",
       " -0.0012272310977234357,\n",
       " -0.00015356873983268793,\n",
       " -0.0007319876864531338,\n",
       " 0.0013331113861280164,\n",
       " 0.0003008781963253909,\n",
       " 0.0010166900513104427,\n",
       " 0.00012185488598813465,\n",
       " -1.564375543444685e-05,\n",
       " 0.0010443180235620297,\n",
       " -0.0003805653934486758,\n",
       " 0.002406725993605502,\n",
       " 0.002317301312403916,\n",
       " 0.0013675905005127026,\n",
       " -0.0011720911185096328,\n",
       " 0.0006585922694788554,\n",
       " -0.002142655502254967,\n",
       " 0.0009064851292465426,\n",
       " -0.0019982016910132377,\n",
       " -0.002934034565332297,\n",
       " 0.0003902227250475454,\n",
       " 0.0007483085692758101,\n",
       " -0.0019016956424716958,\n",
       " -0.000621799818108254,\n",
       " -0.000958893955358267,\n",
       " 0.0016977431109187896,\n",
       " 0.0004318036712350065,\n",
       " 0.0012712362300704994,\n",
       " 0.0009889358815380472,\n",
       " -0.0023764060918055746,\n",
       " 0.0018010030953949652,\n",
       " 4.629108863965503e-05,\n",
       " 0.0009064254412299438,\n",
       " -0.0013647416767493398,\n",
       " -0.000924217017832879,\n",
       " -0.001206379231241228,\n",
       " -0.0002497217763903631,\n",
       " 0.00076192899569065,\n",
       " -0.0010619834026441705,\n",
       " 0.0010921702854356785,\n",
       " -0.0010069645048354642,\n",
       " -0.00022217736736201976,\n",
       " 0.0007687630841047149,\n",
       " -0.0003945746446573084,\n",
       " 0.0010096086839705004,\n",
       " 0.0015463904071306989,\n",
       " -7.097814704515315e-05,\n",
       " 0.0005073401826330287,\n",
       " -0.0017161008709934006,\n",
       " 0.0015877547710865247,\n",
       " -0.000814128061058364,\n",
       " -0.0013303495363316958,\n",
       " -0.0014405288778170516,\n",
       " 0.0019803725962284496,\n",
       " -0.001977462379076589,\n",
       " -0.0009106835653850676,\n",
       " 0.0015602836930499742,\n",
       " -6.400933425078359e-05,\n",
       " -0.0009793587024185951,\n",
       " -0.000917628502972806,\n",
       " -0.0002568287243088635,\n",
       " -0.00033943296007160617,\n",
       " -0.001275117467035139,\n",
       " -0.0004771089601720707,\n",
       " -0.0018123016579643658,\n",
       " 0.0005001974219045885,\n",
       " 0.002001036871801379,\n",
       " 0.003012551214130202,\n",
       " 0.0013950564624335415,\n",
       " -0.00042872632763668594,\n",
       " 0.0010370695297756416,\n",
       " -0.0015782014671737038,\n",
       " -0.00031210001715917257,\n",
       " -0.0004012671872034579,\n",
       " 0.0002525450195751955,\n",
       " 0.0005832979208910127,\n",
       " -9.156909162627569e-05,\n",
       " 0.002881545586741155,\n",
       " -0.0018879063842384969,\n",
       " -0.0009797850453942547,\n",
       " 0.0019870583172869744,\n",
       " 0.0004728747112235643,\n",
       " -0.0015301002210022646,\n",
       " -0.0022113391661480047,\n",
       " 0.000734285675091928,\n",
       " -0.002018935886834189,\n",
       " -0.001709009271422049,\n",
       " -2.2721712030576713e-05,\n",
       " 0.002104124613715383,\n",
       " 0.0009201345469837252,\n",
       " -0.0015782509229588793,\n",
       " -0.0006352121891509827,\n",
       " 0.001071848789615179,\n",
       " -0.0006832827386281659,\n",
       " 0.0013468409563446304,\n",
       " 0.0014708845924269187,\n",
       " 0.0005137956784847103,\n",
       " -0.0014543710025792383,\n",
       " 0.0020903984542425674,\n",
       " 0.0008238928310871085,\n",
       " -0.001289269969483614,\n",
       " -0.0014472776976359875,\n",
       " 0.00032839702477520383,\n",
       " -0.001296080182691034,\n",
       " 0.0005760033820632338,\n",
       " -0.001089386265804626,\n",
       " -7.803734455036349e-05,\n",
       " 0.0013948194157390736,\n",
       " -0.0008486139969306611,\n",
       " 0.0021657507854751235,\n",
       " -1.616900998045734e-05,\n",
       " 0.00040406314443783287,\n",
       " 0.0023243707421405357,\n",
       " 0.0024206448601033076,\n",
       " 2.5773475050366867e-05,\n",
       " 0.00017678510445792717,\n",
       " 0.0017460865199003944,\n",
       " 0.0001905692465754144,\n",
       " 0.0010783810272024796,\n",
       " -0.0008968397352509816,\n",
       " 0.00023191996755601851,\n",
       " 0.002042189769641281,\n",
       " -0.0007109550505492307,\n",
       " 5.317974895460709e-05,\n",
       " 0.0007686266543524972,\n",
       " -0.0008416520056238885,\n",
       " 0.0004316689468547019,\n",
       " 0.0029161406664152123,\n",
       " 0.0012502598714393826,\n",
       " 0.0013539905385606815,\n",
       " 0.0008308121880962888,\n",
       " 0.0003487509226618585,\n",
       " -0.0005251931526244619,\n",
       " 0.0015947457537156262,\n",
       " 0.0011472676303519308,\n",
       " -0.0005459887418338971,\n",
       " 0.0016704050518906444,\n",
       " 0.0003284686503951112,\n",
       " 0.0009407323130524586,\n",
       " -0.0007592524144894586,\n",
       " 0.0007548783250449498,\n",
       " -0.0015161165503721624,\n",
       " -0.00020158642278088335,\n",
       " -0.0008005383313377662,\n",
       " -0.0009451268669598001,\n",
       " 0.0006104586212412749,\n",
       " 0.00012878106448492577,\n",
       " 0.0004523332224276311,\n",
       " 0.0006999122937652313,\n",
       " -0.0013649053924519872,\n",
       " -0.0007386597645364368,\n",
       " 8.057067451172628e-05,\n",
       " 0.00034928982018309074,\n",
       " 0.0007136094619156763,\n",
       " -0.0002635945978468057,\n",
       " -0.0025144999080221886,\n",
       " 0.0012230224293535014,\n",
       " -0.00038759559963152945,\n",
       " 1.1927939544353894e-05,\n",
       " -0.0014405800389741402,\n",
       " 4.812464766371094e-06,\n",
       " -0.00011238343992664435,\n",
       " -7.78804503353131e-05,\n",
       " 0.0009959473286299814,\n",
       " 0.0016705772944528158,\n",
       " 0.00046585985338783165,\n",
       " 0.00047986910459647814,\n",
       " 0.0018150481594135653,\n",
       " 0.0008585527148934624,\n",
       " -0.000215321109113209,\n",
       " 0.000582762434113579,\n",
       " -0.0006557843746411718,\n",
       " 0.0024550131253143204,\n",
       " -0.0017157802610757028,\n",
       " -0.0003600460744874606,\n",
       " -0.0003323652357068857,\n",
       " 0.0004249934580275866,\n",
       " 0.0022485852464447093,\n",
       " -0.0008556527299730388,\n",
       " 0.0014364054780422464,\n",
       " 0.0003076867041608977,\n",
       " 0.00014894225534659022,\n",
       " 0.0005141640388156704,\n",
       " -9.157420774198732e-05,\n",
       " 0.0011336301502180568,\n",
       " 0.0015947099409056725,\n",
       " 0.00012176791202110626,\n",
       " 0.0005278970197761107,\n",
       " -0.0025555880017297805,\n",
       " 0.0014226435057594633,\n",
       " -0.0004839686291646522,\n",
       " -0.00023636056650472304,\n",
       " 0.0013810608542001168,\n",
       " 0.003783323984279288,\n",
       " 0.0028611149471188674,\n",
       " -0.0012408907476920417,\n",
       " 0.0010098559628963777,\n",
       " -2.2639854179259955e-05,\n",
       " -2.2638148807360703e-05,\n",
       " -0.002046325107019409,\n",
       " -0.0019086064726213936,\n",
       " -0.0002980583638843709,\n",
       " -0.001034514029979533,\n",
       " -0.00022225240372572563,\n",
       " 4.6036988226166864e-05,\n",
       " 0.0013399983410710692,\n",
       " 0.0020832676311174497,\n",
       " 7.372805923816506e-05,\n",
       " 0.000472697352545709,\n",
       " 0.0010373014603543979,\n",
       " 0.0007206601325613765,\n",
       " 1.870063456993476e-05,\n",
       " -8.82842611131529e-06,\n",
       " 0.0012918868626682206,\n",
       " -0.002004800438104734,\n",
       " 0.0004589797199324036,\n",
       " -0.0001397624278804549,\n",
       " 0.00043857807163247275,\n",
       " 0.00048648661077890787,\n",
       " 0.0010166798190790333,\n",
       " -0.0003461596100557962,\n",
       " 0.0003142155310043998,\n",
       " 0.0016979682200099488,\n",
       " -0.0010484397179649496,\n",
       " 0.0016220360623304952,\n",
       " -0.0009864332482709404,\n",
       " 0.0006585087062556255,\n",
       " -0.0002288409185857987,\n",
       " -0.0007451885913799389,\n",
       " -0.0010344867440290895,\n",
       " 0.0029576448708670405,\n",
       " 0.0009886698435212365,\n",
       " -0.001399297532869645,\n",
       " 0.0005692170440624589,\n",
       " -0.00014663915059207056,\n",
       " 0.003177558451771173,\n",
       " 0.0013262909406891732,\n",
       " 0.0005760988828897862,\n",
       " 0.0019528026066215343,\n",
       " -0.0006143449743216262,\n",
       " 0.0008033683960101817,\n",
       " 0.0020422545737735776,\n",
       " -0.0009794081582037706,\n",
       " 0.0010164785851945052,\n",
       " -1.566592526917876e-05,\n",
       " -0.0021769896600279254,\n",
       " 0.0012848754155762865,\n",
       " -0.0009522201719030648,\n",
       " -0.00022246898595736087,\n",
       " 0.0003009719917800163,\n",
       " 5.9952443980174075e-05,\n",
       " 0.001326082885317062,\n",
       " -0.00031189878327465836,\n",
       " 0.0026129816299129277,\n",
       " -0.000931235286412424,\n",
       " -0.0012407423803365292,\n",
       " -0.0019223513911851287,\n",
       " 0.0029712687080257066,\n",
       " -0.0016336143058919422,\n",
       " -0.0009244694128744679,\n",
       " 0.002950469708072459,\n",
       " 0.0011059970618507442,\n",
       " -0.001461210207109015,\n",
       " 0.0014227219528669954,\n",
       " 0.00034878673547182604,\n",
       " 0.001594820790079346,\n",
       " -0.0017572128399076375,\n",
       " -0.0016745386838968729,\n",
       " 0.00041088358987667606,\n",
       " 0.0005826908084936716,\n",
       " 0.0006516558587506549,\n",
       " 0.0020008407540325762,\n",
       " -0.0006630618597499166,\n",
       " -0.000930959016164204,\n",
       " 0.0008236455521612313,\n",
       " 0.001401871791756673,\n",
       " -3.663375704077154e-05,\n",
       " -0.0007865290801291058,\n",
       " -0.0010135189122574828,\n",
       " -3.654678307374315e-05,\n",
       " 0.0004520705951546189,\n",
       " 0.00043828304229331927,\n",
       " -0.0008417321581033199,\n",
       " -0.0006422355738462254,\n",
       " -0.000821391903191887,\n",
       " -0.0008899902984897956,\n",
       " -0.0008967902794658061,\n",
       " -0.0011652161011699164,\n",
       " 0.0023173439467014667,\n",
       " 0.00050714406486424,\n",
       " 0.00015617710615777047,\n",
       " 0.00023889901258179747,\n",
       " 0.0012091069735994942,\n",
       " 0.0013814343306468024,\n",
       " 0.000507433978087668,\n",
       " -0.0005253807435337682,\n",
       " 0.0005488477978286693,\n",
       " 0.0012501848350756767,\n",
       " -0.0008208990507120179,\n",
       " 0.000658865128983277,\n",
       " 0.0005140804755924405,\n",
       " -0.0008900295220435478,\n",
       " 0.0006034164774550987,\n",
       " 0.0018219385251004167,\n",
       " 0.0006037404981166089,\n",
       " 0.0015877445388551154,\n",
       " -0.00039449278680599165,\n",
       " -0.0008487316675919315,\n",
       " -0.0008556356762540046,\n",
       " 0.0009957597377207028,\n",
       " 0.00013563732273373652,\n",
       " -0.0013719628845852982,\n",
       " 0.0012920778643212977,\n",
       " 0.0003144747475335996,\n",
       " -0.0016125748485004143,\n",
       " -3.628927191645648e-05,\n",
       " 0.00032130030908814056,\n",
       " ...]"
      ]
     },
     "execution_count": 86,
     "metadata": {},
     "output_type": "execute_result"
    }
   ],
   "source": [
    "p_diffs =[]\n",
    "\n",
    "for _ in range(10000):\n",
    "    old_page_converted = np.random.binomial(Nold,Pold)\n",
    "    new_page_converted = np.random.binomial(Nnew, Pnew)\n",
    "    diffs = new_page_converted/Nnew - old_page_converted/Nold\n",
    "    p_diffs.append(diffs)    \n",
    "\n",
    "p_diffs"
   ]
  },
  {
   "cell_type": "markdown",
   "metadata": {},
   "source": [
    "i. Plot a histogram of the **p_diffs**.  Does this plot look like what you expected?  Use the matching problem in the classroom to assure you fully understand what was computed here."
   ]
  },
  {
   "cell_type": "code",
   "execution_count": 87,
   "metadata": {},
   "outputs": [
    {
     "data": {
      "text/plain": [
       "Text(0, 0.5, 'frequancy')"
      ]
     },
     "execution_count": 87,
     "metadata": {},
     "output_type": "execute_result"
    },
    {
     "data": {
      "image/png": "[encoded data removed]",
      "text/plain": [
       "<Figure size 432x288 with 1 Axes>"
      ]
     },
     "metadata": {
      "needs_background": "light"
     },
     "output_type": "display_data"
    }
   ],
   "source": [
    "plt.hist(p_diffs)\n",
    "\n",
    "plt.title('The Distribution of The Diffrence Between The Two Proportions')\n",
    "plt.xlabel('Pnew - Pold')\n",
    "plt.ylabel('frequancy')"
   ]
  },
  {
   "cell_type": "markdown",
   "metadata": {},
   "source": [
    "j. What proportion of the **p_diffs** are greater than the actual difference observed in **ab_data.csv**?"
   ]
  },
  {
   "cell_type": "code",
   "execution_count": 88,
   "metadata": {},
   "outputs": [
    {
     "data": {
      "text/plain": [
       "0.9064"
      ]
     },
     "execution_count": 88,
     "metadata": {},
     "output_type": "execute_result"
    }
   ],
   "source": [
    "#calculate the actual diffrence in the data set\n",
    "act_diff = df2[df2['group'] == 'treatment']['converted'].mean() -  df2[df2['group'] == 'control']['converted'].mean()\n",
    "p_diffs = np.array(p_diffs)\n",
    "(p_diffs > act_diff ).mean()"
   ]
  },
  {
   "cell_type": "markdown",
   "metadata": {},
   "source": [
    "k. In words, explain what you just computed in part **j.**  What is this value called in scientific studies?  What does this value mean in terms of whether or not there is a difference between the new and old pages?"
   ]
  },
  {
   "cell_type": "markdown",
   "metadata": {},
   "source": [
    "**Put your answer here.**\n",
    "* we calculated P-value \n",
    "* This value help us to find the optimal decision, FYI this value is in range 0 to 1  and this value is tell us that your assumption exists in null by calculated value so, when this value is less than .5 that means our assumption is not existing in in null as will reject it and vice versa. \n",
    "* in our solution p-value is high so it's likely to exist in null by 0.9 as the old page is better than new page"
   ]
  },
  {
   "cell_type": "markdown",
   "metadata": {},
   "source": [
    "l. We could also use a built-in to achieve similar results.  Though using the built-in might be easier to code, the above portions are a walkthrough of the ideas that are critical to correctly thinking about statistical significance. Fill in the below to calculate the number of conversions for each page, as well as the number of individuals who received each page. Let `n_old` and `n_new` refer the the number of rows associated with the old page and new pages, respectively."
   ]
  },
  {
   "cell_type": "code",
   "execution_count": 89,
   "metadata": {},
   "outputs": [],
   "source": [
    "import statsmodels.api as sm\n",
    "\n",
    "convert_old = df2.query(\" landing_page == 'old_page' and converted == 1\").shape[0]\n",
    "convert_new = df2.query(\" landing_page == 'new_page' and converted == 1\").shape[0]\n",
    "n_old = df2[df2['group'] == 'control'].shape[0]\n",
    "n_new = df2[df2['group'] == 'treatment'].shape[0]\n"
   ]
  },
  {
   "cell_type": "markdown",
   "metadata": {},
   "source": [
    "m. Now use `stats.proportions_ztest` to compute your test statistic and p-value.  [Here](http://knowledgetack.com/python/statsmodels/proportions_ztest/) is a helpful link on using the built in."
   ]
  },
  {
   "cell_type": "code",
   "execution_count": 90,
   "metadata": {},
   "outputs": [
    {
     "name": "stdout",
     "output_type": "stream",
     "text": [
      "z_score is: 1.3109241984234394\n",
      "p_value is: 0.9050583127590245\n"
     ]
    }
   ],
   "source": [
    "z_score, p_value = sm.stats.proportions_ztest([convert_old, convert_new], [Nold, Nnew],alternative = 'smaller')\n",
    "print(f'z_score is: {z_score}\\np_value is: {p_value}')"
   ]
  },
  {
   "cell_type": "markdown",
   "metadata": {},
   "source": [
    "n. What do the z-score and p-value you computed in the previous question mean for the conversion rates of the old and new pages?  Do they agree with the findings in parts **j.** and **k.**?"
   ]
  },
  {
   "cell_type": "code",
   "execution_count": 91,
   "metadata": {},
   "outputs": [
    {
     "name": "stdout",
     "output_type": "stream",
     "text": [
      "0.9050583127590245\n",
      "1.6448536269514722\n"
     ]
    }
   ],
   "source": [
    "from scipy.stats import norm\n",
    "# significant z-score is\n",
    "print(norm.cdf(z_score))\n",
    "\n",
    "#assumed at 95% confidence level: \n",
    "print(norm.ppf(1-(0.05)))"
   ]
  },
  {
   "cell_type": "markdown",
   "metadata": {},
   "source": [
    "**Put your answer here.**\n",
    "* Due to the z-score of 1.31 less than the critical value of 1.644, we fail to reject the null hypothesis that suggests the new page conversion rate is higher than the old rate\n",
    "* yes, I agree with my findings"
   ]
  },
  {
   "cell_type": "markdown",
   "metadata": {},
   "source": [
    "<a id='regression'></a>\n",
    "### Part III - A regression approach\n",
    "\n",
    "`1.` In this final part, you will see that the result you acheived in the previous A/B test can also be acheived by performing regression.<br><br>\n",
    "\n",
    "a. Since each row is either a conversion or no conversion, what type of regression should you be performing in this case?"
   ]
  },
  {
   "cell_type": "markdown",
   "metadata": {},
   "source": [
    "**Logistic Regrission**"
   ]
  },
  {
   "cell_type": "markdown",
   "metadata": {},
   "source": [
    "b. The goal is to use **statsmodels** to fit the regression model you specified in part **a.** to see if there is a significant difference in conversion based on which page a customer receives.  However, you first need to create a column for the intercept, and create a dummy variable column for which page each user received.  Add an **intercept** column, as well as an **ab_page** column, which is 1 when an individual receives the **treatment** and 0 if **control**."
   ]
  },
  {
   "cell_type": "code",
   "execution_count": 122,
   "metadata": {},
   "outputs": [
    {
     "data": {
      "text/html": [
       "<div>\n",
       "<style scoped>\n",
       "    .dataframe tbody tr th:only-of-type {\n",
       "        vertical-align: middle;\n",
       "    }\n",
       "\n",
       "    .dataframe tbody tr th {\n",
       "        vertical-align: top;\n",
       "    }\n",
       "\n",
       "    .dataframe thead th {\n",
       "        text-align: right;\n",
       "    }\n",
       "</style>\n",
       "<table border=\"1\" class=\"dataframe\">\n",
       "  <thead>\n",
       "    <tr style=\"text-align: right;\">\n",
       "      <th></th>\n",
       "      <th>user_id</th>\n",
       "      <th>timestamp</th>\n",
       "      <th>group</th>\n",
       "      <th>landing_page</th>\n",
       "      <th>converted</th>\n",
       "      <th>intercept</th>\n",
       "      <th>control</th>\n",
       "      <th>treatment</th>\n",
       "      <th>ab_page</th>\n",
       "    </tr>\n",
       "  </thead>\n",
       "  <tbody>\n",
       "    <tr>\n",
       "      <th>0</th>\n",
       "      <td>851104</td>\n",
       "      <td>2017-01-21 22:11:48.556739</td>\n",
       "      <td>control</td>\n",
       "      <td>old_page</td>\n",
       "      <td>0</td>\n",
       "      <td>1</td>\n",
       "      <td>1</td>\n",
       "      <td>0</td>\n",
       "      <td>0</td>\n",
       "    </tr>\n",
       "    <tr>\n",
       "      <th>1</th>\n",
       "      <td>804228</td>\n",
       "      <td>2017-01-12 08:01:45.159739</td>\n",
       "      <td>control</td>\n",
       "      <td>old_page</td>\n",
       "      <td>0</td>\n",
       "      <td>1</td>\n",
       "      <td>1</td>\n",
       "      <td>0</td>\n",
       "      <td>0</td>\n",
       "    </tr>\n",
       "    <tr>\n",
       "      <th>2</th>\n",
       "      <td>661590</td>\n",
       "      <td>2017-01-11 16:55:06.154213</td>\n",
       "      <td>treatment</td>\n",
       "      <td>new_page</td>\n",
       "      <td>0</td>\n",
       "      <td>1</td>\n",
       "      <td>0</td>\n",
       "      <td>1</td>\n",
       "      <td>1</td>\n",
       "    </tr>\n",
       "    <tr>\n",
       "      <th>3</th>\n",
       "      <td>853541</td>\n",
       "      <td>2017-01-08 18:28:03.143765</td>\n",
       "      <td>treatment</td>\n",
       "      <td>new_page</td>\n",
       "      <td>0</td>\n",
       "      <td>1</td>\n",
       "      <td>0</td>\n",
       "      <td>1</td>\n",
       "      <td>1</td>\n",
       "    </tr>\n",
       "    <tr>\n",
       "      <th>4</th>\n",
       "      <td>864975</td>\n",
       "      <td>2017-01-21 01:52:26.210827</td>\n",
       "      <td>control</td>\n",
       "      <td>old_page</td>\n",
       "      <td>1</td>\n",
       "      <td>1</td>\n",
       "      <td>1</td>\n",
       "      <td>0</td>\n",
       "      <td>0</td>\n",
       "    </tr>\n",
       "    <tr>\n",
       "      <th>...</th>\n",
       "      <td>...</td>\n",
       "      <td>...</td>\n",
       "      <td>...</td>\n",
       "      <td>...</td>\n",
       "      <td>...</td>\n",
       "      <td>...</td>\n",
       "      <td>...</td>\n",
       "      <td>...</td>\n",
       "      <td>...</td>\n",
       "    </tr>\n",
       "    <tr>\n",
       "      <th>294473</th>\n",
       "      <td>751197</td>\n",
       "      <td>2017-01-03 22:28:38.630509</td>\n",
       "      <td>control</td>\n",
       "      <td>old_page</td>\n",
       "      <td>0</td>\n",
       "      <td>1</td>\n",
       "      <td>1</td>\n",
       "      <td>0</td>\n",
       "      <td>0</td>\n",
       "    </tr>\n",
       "    <tr>\n",
       "      <th>294474</th>\n",
       "      <td>945152</td>\n",
       "      <td>2017-01-12 00:51:57.078372</td>\n",
       "      <td>control</td>\n",
       "      <td>old_page</td>\n",
       "      <td>0</td>\n",
       "      <td>1</td>\n",
       "      <td>1</td>\n",
       "      <td>0</td>\n",
       "      <td>0</td>\n",
       "    </tr>\n",
       "    <tr>\n",
       "      <th>294475</th>\n",
       "      <td>734608</td>\n",
       "      <td>2017-01-22 11:45:03.439544</td>\n",
       "      <td>control</td>\n",
       "      <td>old_page</td>\n",
       "      <td>0</td>\n",
       "      <td>1</td>\n",
       "      <td>1</td>\n",
       "      <td>0</td>\n",
       "      <td>0</td>\n",
       "    </tr>\n",
       "    <tr>\n",
       "      <th>294476</th>\n",
       "      <td>697314</td>\n",
       "      <td>2017-01-15 01:20:28.957438</td>\n",
       "      <td>control</td>\n",
       "      <td>old_page</td>\n",
       "      <td>0</td>\n",
       "      <td>1</td>\n",
       "      <td>1</td>\n",
       "      <td>0</td>\n",
       "      <td>0</td>\n",
       "    </tr>\n",
       "    <tr>\n",
       "      <th>294477</th>\n",
       "      <td>715931</td>\n",
       "      <td>2017-01-16 12:40:24.467417</td>\n",
       "      <td>treatment</td>\n",
       "      <td>new_page</td>\n",
       "      <td>0</td>\n",
       "      <td>1</td>\n",
       "      <td>0</td>\n",
       "      <td>1</td>\n",
       "      <td>1</td>\n",
       "    </tr>\n",
       "  </tbody>\n",
       "</table>\n",
       "<p>290584 rows × 9 columns</p>\n",
       "</div>"
      ],
      "text/plain": [
       "        user_id                   timestamp      group landing_page  \\\n",
       "0        851104  2017-01-21 22:11:48.556739    control     old_page   \n",
       "1        804228  2017-01-12 08:01:45.159739    control     old_page   \n",
       "2        661590  2017-01-11 16:55:06.154213  treatment     new_page   \n",
       "3        853541  2017-01-08 18:28:03.143765  treatment     new_page   \n",
       "4        864975  2017-01-21 01:52:26.210827    control     old_page   \n",
       "...         ...                         ...        ...          ...   \n",
       "294473   751197  2017-01-03 22:28:38.630509    control     old_page   \n",
       "294474   945152  2017-01-12 00:51:57.078372    control     old_page   \n",
       "294475   734608  2017-01-22 11:45:03.439544    control     old_page   \n",
       "294476   697314  2017-01-15 01:20:28.957438    control     old_page   \n",
       "294477   715931  2017-01-16 12:40:24.467417  treatment     new_page   \n",
       "\n",
       "        converted  intercept  control  treatment  ab_page  \n",
       "0               0          1        1          0        0  \n",
       "1               0          1        1          0        0  \n",
       "2               0          1        0          1        1  \n",
       "3               0          1        0          1        1  \n",
       "4               1          1        1          0        0  \n",
       "...           ...        ...      ...        ...      ...  \n",
       "294473          0          1        1          0        0  \n",
       "294474          0          1        1          0        0  \n",
       "294475          0          1        1          0        0  \n",
       "294476          0          1        1          0        0  \n",
       "294477          0          1        0          1        1  \n",
       "\n",
       "[290584 rows x 9 columns]"
      ]
     },
     "execution_count": 122,
     "metadata": {},
     "output_type": "execute_result"
    }
   ],
   "source": [
    "import statsmodels.api as sm\n",
    "#define the intercept column in the data frame\n",
    "df2['intercept'] = 1\n",
    "# create a dummy variable\n",
    "df2['ab_page'] = pd.get_dummies(df['landing_page'])['new_page']\n",
    "df2"
   ]
  },
  {
   "cell_type": "markdown",
   "metadata": {},
   "source": [
    "c. Use **statsmodels** to import your regression model.  Instantiate the model, and fit the model using the two columns you created in part **b.** to predict whether or not an individual converts."
   ]
  },
  {
   "cell_type": "code",
   "execution_count": 128,
   "metadata": {},
   "outputs": [
    {
     "name": "stdout",
     "output_type": "stream",
     "text": [
      "Optimization terminated successfully.\n",
      "         Current function value: 0.366118\n",
      "         Iterations 6\n"
     ]
    }
   ],
   "source": [
    "#create the logistic regression model\n",
    "logit_mod = sm.Logit(df2['converted'],df2[['intercept','ab_page']])\n",
    "results = logit_mod.fit()"
   ]
  },
  {
   "cell_type": "markdown",
   "metadata": {},
   "source": [
    "d. Provide the summary of your model below, and use it as necessary to answer the following questions."
   ]
  },
  {
   "cell_type": "code",
   "execution_count": 129,
   "metadata": {},
   "outputs": [
    {
     "data": {
      "text/html": [
       "<table class=\"simpletable\">\n",
       "<caption>Logit Regression Results</caption>\n",
       "<tr>\n",
       "  <th>Dep. Variable:</th>       <td>converted</td>    <th>  No. Observations:  </th>   <td>290584</td>   \n",
       "</tr>\n",
       "<tr>\n",
       "  <th>Model:</th>                 <td>Logit</td>      <th>  Df Residuals:      </th>   <td>290582</td>   \n",
       "</tr>\n",
       "<tr>\n",
       "  <th>Method:</th>                 <td>MLE</td>       <th>  Df Model:          </th>   <td>     1</td>   \n",
       "</tr>\n",
       "<tr>\n",
       "  <th>Date:</th>            <td>Fri, 22 Jan 2021</td> <th>  Pseudo R-squ.:     </th>  <td>8.077e-06</td> \n",
       "</tr>\n",
       "<tr>\n",
       "  <th>Time:</th>                <td>19:04:42</td>     <th>  Log-Likelihood:    </th> <td>-1.0639e+05</td>\n",
       "</tr>\n",
       "<tr>\n",
       "  <th>converged:</th>             <td>True</td>       <th>  LL-Null:           </th> <td>-1.0639e+05</td>\n",
       "</tr>\n",
       "<tr>\n",
       "  <th>Covariance Type:</th>     <td>nonrobust</td>    <th>  LLR p-value:       </th>   <td>0.1899</td>   \n",
       "</tr>\n",
       "</table>\n",
       "<table class=\"simpletable\">\n",
       "<tr>\n",
       "      <td></td>         <th>coef</th>     <th>std err</th>      <th>z</th>      <th>P>|z|</th>  <th>[0.025</th>    <th>0.975]</th>  \n",
       "</tr>\n",
       "<tr>\n",
       "  <th>intercept</th> <td>   -1.9888</td> <td>    0.008</td> <td> -246.669</td> <td> 0.000</td> <td>   -2.005</td> <td>   -1.973</td>\n",
       "</tr>\n",
       "<tr>\n",
       "  <th>ab_page</th>   <td>   -0.0150</td> <td>    0.011</td> <td>   -1.311</td> <td> 0.190</td> <td>   -0.037</td> <td>    0.007</td>\n",
       "</tr>\n",
       "</table>"
      ],
      "text/plain": [
       "<class 'statsmodels.iolib.summary.Summary'>\n",
       "\"\"\"\n",
       "                           Logit Regression Results                           \n",
       "==============================================================================\n",
       "Dep. Variable:              converted   No. Observations:               290584\n",
       "Model:                          Logit   Df Residuals:                   290582\n",
       "Method:                           MLE   Df Model:                            1\n",
       "Date:                Fri, 22 Jan 2021   Pseudo R-squ.:               8.077e-06\n",
       "Time:                        19:04:42   Log-Likelihood:            -1.0639e+05\n",
       "converged:                       True   LL-Null:                   -1.0639e+05\n",
       "Covariance Type:            nonrobust   LLR p-value:                    0.1899\n",
       "==============================================================================\n",
       "                 coef    std err          z      P>|z|      [0.025      0.975]\n",
       "------------------------------------------------------------------------------\n",
       "intercept     -1.9888      0.008   -246.669      0.000      -2.005      -1.973\n",
       "ab_page       -0.0150      0.011     -1.311      0.190      -0.037       0.007\n",
       "==============================================================================\n",
       "\"\"\""
      ]
     },
     "execution_count": 129,
     "metadata": {},
     "output_type": "execute_result"
    }
   ],
   "source": [
    "results.summary()"
   ]
  },
  {
   "cell_type": "code",
   "execution_count": 130,
   "metadata": {},
   "outputs": [
    {
     "data": {
      "text/plain": [
       "intercept    0.136863\n",
       "ab_page      0.985123\n",
       "dtype: float64"
      ]
     },
     "execution_count": 130,
     "metadata": {},
     "output_type": "execute_result"
    }
   ],
   "source": [
    "np.exp(results.params)"
   ]
  },
  {
   "cell_type": "markdown",
   "metadata": {},
   "source": [
    "if an user uses old page it's likely change to new by 0.98"
   ]
  },
  {
   "cell_type": "markdown",
   "metadata": {},
   "source": [
    "e. What is the p-value associated with **ab_page**? Why does it differ from the value you found in **Part II**?<br><br>  **Hint**: What are the null and alternative hypotheses associated with your regression model, and how do they compare to the null and alternative hypotheses in the **Part II**?\n",
    "\n",
    "\n",
    "the interpreting of this model is if the indivisual uses the new page, it is .98 times more likely to make a conversion than if he uses the old page. which means that there is a very tiny diffrence in the performance between the both pages, with more a little bit in the old page."
   ]
  },
  {
   "cell_type": "markdown",
   "metadata": {},
   "source": [
    "* The model is two sided test and in Part II -A/B test- was one sided test. In the model we Test not equal old page is not equal new page, but In hypothesis test we test old page is greater than or equal to new page.\n",
    "*** \n",
    "\n",
    "* The P-value associated with page equals to .19, it is diffrent from the p-value in the part II, Due to the hypothesises for null and alternative here are diffrent.\n"
   ]
  },
  {
   "cell_type": "markdown",
   "metadata": {},
   "source": [
    "f. Now, you are considering other things that might influence whether or not an individual converts.  Discuss why it is a good idea to consider other factors to add into your regression model.  Are there any disadvantages to adding additional terms into your regression model?"
   ]
  },
  {
   "cell_type": "markdown",
   "metadata": {},
   "source": [
    "**Put your answer here.**\n",
    "\n",
    "Things like which program people applying for or age or gender of user might influence whether or not an individual converts or not to new page.\n",
    "here appears in several different groups of data but disappears or reverses when these groups.\n",
    "\n",
    "Yes, if we add correlations predictor variables, leading to unreliable and unstable estimates of regression coefficients \"Multicollinearity\" can affect our model.\n",
    "Each time we include a new predictor variable with no change in sample size we lose a degree of freedom. \n",
    "The result sometimes is that previously significant predictor in the new regression is no long significant at the same probability of a Type 1 error (the significance level)."
   ]
  },
  {
   "cell_type": "markdown",
   "metadata": {},
   "source": [
    "g. Now along with testing if the conversion rate changes for different pages, also add an effect based on which country a user lives. You will need to read in the **countries.csv** dataset and merge together your datasets on the approporiate rows.  [Here](https://pandas.pydata.org/pandas-docs/stable/generated/pandas.DataFrame.join.html) are the docs for joining tables. \n",
    "\n",
    "Does it appear that country had an impact on conversion?  Don't forget to create dummy variables for these country columns - **Hint: You will need two columns for the three dummy variables.** Provide the statistical output as well as a written response to answer this question."
   ]
  },
  {
   "cell_type": "code",
   "execution_count": 132,
   "metadata": {},
   "outputs": [],
   "source": [
    "#read csv file\n",
    "df3 = pd.read_csv(\"countries.csv\")\n",
    "\n",
    "#join the country data frame with the converted rate data frame\n",
    "df_joined = df2.join(df3.set_index('user_id'),on ='user_id')\n",
    "\n",
    "#create dummy variables for the country column\n",
    "df_joined[['CA','UK','US']] = pd.get_dummies(df_joined['country'])\n"
   ]
  },
  {
   "cell_type": "code",
   "execution_count": 133,
   "metadata": {},
   "outputs": [
    {
     "name": "stdout",
     "output_type": "stream",
     "text": [
      "Optimization terminated successfully.\n",
      "         Current function value: 0.366116\n",
      "         Iterations 6\n"
     ]
    },
    {
     "data": {
      "text/html": [
       "<table class=\"simpletable\">\n",
       "<caption>Logit Regression Results</caption>\n",
       "<tr>\n",
       "  <th>Dep. Variable:</th>       <td>converted</td>    <th>  No. Observations:  </th>   <td>290584</td>   \n",
       "</tr>\n",
       "<tr>\n",
       "  <th>Model:</th>                 <td>Logit</td>      <th>  Df Residuals:      </th>   <td>290581</td>   \n",
       "</tr>\n",
       "<tr>\n",
       "  <th>Method:</th>                 <td>MLE</td>       <th>  Df Model:          </th>   <td>     2</td>   \n",
       "</tr>\n",
       "<tr>\n",
       "  <th>Date:</th>            <td>Fri, 22 Jan 2021</td> <th>  Pseudo R-squ.:     </th>  <td>1.521e-05</td> \n",
       "</tr>\n",
       "<tr>\n",
       "  <th>Time:</th>                <td>19:08:39</td>     <th>  Log-Likelihood:    </th> <td>-1.0639e+05</td>\n",
       "</tr>\n",
       "<tr>\n",
       "  <th>converged:</th>             <td>True</td>       <th>  LL-Null:           </th> <td>-1.0639e+05</td>\n",
       "</tr>\n",
       "<tr>\n",
       "  <th>Covariance Type:</th>     <td>nonrobust</td>    <th>  LLR p-value:       </th>   <td>0.1984</td>   \n",
       "</tr>\n",
       "</table>\n",
       "<table class=\"simpletable\">\n",
       "<tr>\n",
       "      <td></td>         <th>coef</th>     <th>std err</th>      <th>z</th>      <th>P>|z|</th>  <th>[0.025</th>    <th>0.975]</th>  \n",
       "</tr>\n",
       "<tr>\n",
       "  <th>intercept</th> <td>   -1.9967</td> <td>    0.007</td> <td> -292.314</td> <td> 0.000</td> <td>   -2.010</td> <td>   -1.983</td>\n",
       "</tr>\n",
       "<tr>\n",
       "  <th>UK</th>        <td>    0.0099</td> <td>    0.013</td> <td>    0.746</td> <td> 0.456</td> <td>   -0.016</td> <td>    0.036</td>\n",
       "</tr>\n",
       "<tr>\n",
       "  <th>CA</th>        <td>   -0.0408</td> <td>    0.027</td> <td>   -1.518</td> <td> 0.129</td> <td>   -0.093</td> <td>    0.012</td>\n",
       "</tr>\n",
       "</table>"
      ],
      "text/plain": [
       "<class 'statsmodels.iolib.summary.Summary'>\n",
       "\"\"\"\n",
       "                           Logit Regression Results                           \n",
       "==============================================================================\n",
       "Dep. Variable:              converted   No. Observations:               290584\n",
       "Model:                          Logit   Df Residuals:                   290581\n",
       "Method:                           MLE   Df Model:                            2\n",
       "Date:                Fri, 22 Jan 2021   Pseudo R-squ.:               1.521e-05\n",
       "Time:                        19:08:39   Log-Likelihood:            -1.0639e+05\n",
       "converged:                       True   LL-Null:                   -1.0639e+05\n",
       "Covariance Type:            nonrobust   LLR p-value:                    0.1984\n",
       "==============================================================================\n",
       "                 coef    std err          z      P>|z|      [0.025      0.975]\n",
       "------------------------------------------------------------------------------\n",
       "intercept     -1.9967      0.007   -292.314      0.000      -2.010      -1.983\n",
       "UK             0.0099      0.013      0.746      0.456      -0.016       0.036\n",
       "CA            -0.0408      0.027     -1.518      0.129      -0.093       0.012\n",
       "==============================================================================\n",
       "\"\"\""
      ]
     },
     "execution_count": 133,
     "metadata": {},
     "output_type": "execute_result"
    }
   ],
   "source": [
    "#create a logistic reggresion model for the converted\n",
    "#column with the country dummy variables columns\n",
    "df_joined['intercept'] = 1\n",
    "logit_mod = sm.Logit(df_joined['converted'],df_joined[['intercept','UK','CA']])\n",
    "results_2 = logit_mod.fit()\n",
    "results_2.summary()\n"
   ]
  },
  {
   "cell_type": "code",
   "execution_count": 135,
   "metadata": {},
   "outputs": [
    {
     "data": {
      "text/plain": [
       "intercept    0.135779\n",
       "UK           1.009966\n",
       "CA           0.960018\n",
       "dtype: float64"
      ]
     },
     "execution_count": 135,
     "metadata": {},
     "output_type": "execute_result"
    }
   ],
   "source": [
    "np.exp(results_2.params)"
   ]
  },
  {
   "cell_type": "markdown",
   "metadata": {},
   "source": [
    "Interpretation of the previous logistic model:\n",
    "\n",
    "1.If an user is from US, it is 1 time more likely to make a conversion than if he is from UK , holding all other variables constant.\n",
    "\n",
    "2.If an indivisual is from US , it is 0.96 more likely to make a conversion than if he is from CA, holding all other variables constant.\n",
    "\n",
    "from these values which is very close to 1 time, we can notice that there is no influence on the conversion rate comes from the country variable.\n"
   ]
  },
  {
   "cell_type": "markdown",
   "metadata": {},
   "source": [
    "h. Though you have now looked at the individual factors of country and page on conversion, we would now like to look at an interaction between page and country to see if there significant effects on conversion.  Create the necessary additional columns, and fit the new model.  \n",
    "\n",
    "Provide the summary results, and your conclusions based on the results."
   ]
  },
  {
   "cell_type": "code",
   "execution_count": 141,
   "metadata": {},
   "outputs": [
    {
     "name": "stdout",
     "output_type": "stream",
     "text": [
      "Optimization terminated successfully.\n",
      "         Current function value: 0.366113\n",
      "         Iterations 6\n"
     ]
    },
    {
     "data": {
      "text/html": [
       "<table class=\"simpletable\">\n",
       "<caption>Logit Regression Results</caption>\n",
       "<tr>\n",
       "  <th>Dep. Variable:</th>       <td>converted</td>    <th>  No. Observations:  </th>   <td>290584</td>   \n",
       "</tr>\n",
       "<tr>\n",
       "  <th>Model:</th>                 <td>Logit</td>      <th>  Df Residuals:      </th>   <td>290580</td>   \n",
       "</tr>\n",
       "<tr>\n",
       "  <th>Method:</th>                 <td>MLE</td>       <th>  Df Model:          </th>   <td>     3</td>   \n",
       "</tr>\n",
       "<tr>\n",
       "  <th>Date:</th>            <td>Fri, 22 Jan 2021</td> <th>  Pseudo R-squ.:     </th>  <td>2.323e-05</td> \n",
       "</tr>\n",
       "<tr>\n",
       "  <th>Time:</th>                <td>19:23:34</td>     <th>  Log-Likelihood:    </th> <td>-1.0639e+05</td>\n",
       "</tr>\n",
       "<tr>\n",
       "  <th>converged:</th>             <td>True</td>       <th>  LL-Null:           </th> <td>-1.0639e+05</td>\n",
       "</tr>\n",
       "<tr>\n",
       "  <th>Covariance Type:</th>     <td>nonrobust</td>    <th>  LLR p-value:       </th>   <td>0.1760</td>   \n",
       "</tr>\n",
       "</table>\n",
       "<table class=\"simpletable\">\n",
       "<tr>\n",
       "      <td></td>         <th>coef</th>     <th>std err</th>      <th>z</th>      <th>P>|z|</th>  <th>[0.025</th>    <th>0.975]</th>  \n",
       "</tr>\n",
       "<tr>\n",
       "  <th>intercept</th> <td>   -1.9893</td> <td>    0.009</td> <td> -223.763</td> <td> 0.000</td> <td>   -2.007</td> <td>   -1.972</td>\n",
       "</tr>\n",
       "<tr>\n",
       "  <th>ab_page</th>   <td>   -0.0149</td> <td>    0.011</td> <td>   -1.307</td> <td> 0.191</td> <td>   -0.037</td> <td>    0.007</td>\n",
       "</tr>\n",
       "<tr>\n",
       "  <th>UK</th>        <td>    0.0099</td> <td>    0.013</td> <td>    0.743</td> <td> 0.457</td> <td>   -0.016</td> <td>    0.036</td>\n",
       "</tr>\n",
       "<tr>\n",
       "  <th>CA</th>        <td>   -0.0408</td> <td>    0.027</td> <td>   -1.516</td> <td> 0.130</td> <td>   -0.093</td> <td>    0.012</td>\n",
       "</tr>\n",
       "</table>"
      ],
      "text/plain": [
       "<class 'statsmodels.iolib.summary.Summary'>\n",
       "\"\"\"\n",
       "                           Logit Regression Results                           \n",
       "==============================================================================\n",
       "Dep. Variable:              converted   No. Observations:               290584\n",
       "Model:                          Logit   Df Residuals:                   290580\n",
       "Method:                           MLE   Df Model:                            3\n",
       "Date:                Fri, 22 Jan 2021   Pseudo R-squ.:               2.323e-05\n",
       "Time:                        19:23:34   Log-Likelihood:            -1.0639e+05\n",
       "converged:                       True   LL-Null:                   -1.0639e+05\n",
       "Covariance Type:            nonrobust   LLR p-value:                    0.1760\n",
       "==============================================================================\n",
       "                 coef    std err          z      P>|z|      [0.025      0.975]\n",
       "------------------------------------------------------------------------------\n",
       "intercept     -1.9893      0.009   -223.763      0.000      -2.007      -1.972\n",
       "ab_page       -0.0149      0.011     -1.307      0.191      -0.037       0.007\n",
       "UK             0.0099      0.013      0.743      0.457      -0.016       0.036\n",
       "CA            -0.0408      0.027     -1.516      0.130      -0.093       0.012\n",
       "==============================================================================\n",
       "\"\"\""
      ]
     },
     "execution_count": 141,
     "metadata": {},
     "output_type": "execute_result"
    }
   ],
   "source": [
    "#create a logistic reggresion model for the converte\n",
    "\n",
    "logit_mod = sm.Logit(df_joined['converted'],df_joined[['intercept','ab_page','UK','CA']])\n",
    "results_3 = logit_mod.fit()\n",
    "results_3.summary()"
   ]
  },
  {
   "cell_type": "code",
   "execution_count": 137,
   "metadata": {},
   "outputs": [
    {
     "data": {
      "text/plain": [
       "intercept    0.136795\n",
       "ab_page      0.985168\n",
       "UK           1.009932\n",
       "CA           0.960062\n",
       "dtype: float64"
      ]
     },
     "execution_count": 137,
     "metadata": {},
     "output_type": "execute_result"
    }
   ],
   "source": [
    "np.exp(results_3.params)"
   ]
  },
  {
   "cell_type": "markdown",
   "metadata": {},
   "source": [
    "We can interpret the result like this:\n",
    "\n",
    "1. if an user uses the new page, it is .985 more likely to make a conversion than if he uses the old page, holding all other variables constant.\n",
    "\n",
    "2. If an user is from UK , it is 1,009 more likely to make a conversion than if he is from US, holding all other variables constant.\n",
    "\n",
    "3. If an user is from CA , it is 0.96 more likely to make a conversion than if he is from US, holding all other variables constant."
   ]
  },
  {
   "cell_type": "code",
   "execution_count": 138,
   "metadata": {},
   "outputs": [
    {
     "name": "stdout",
     "output_type": "stream",
     "text": [
      "Optimization terminated successfully.\n",
      "         Current function value: 0.366109\n",
      "         Iterations 6\n"
     ]
    },
    {
     "data": {
      "text/html": [
       "<table class=\"simpletable\">\n",
       "<caption>Logit Regression Results</caption>\n",
       "<tr>\n",
       "  <th>Dep. Variable:</th>           <td>y</td>        <th>  No. Observations:  </th>   <td>290584</td>   \n",
       "</tr>\n",
       "<tr>\n",
       "  <th>Model:</th>                 <td>Logit</td>      <th>  Df Residuals:      </th>   <td>290578</td>   \n",
       "</tr>\n",
       "<tr>\n",
       "  <th>Method:</th>                 <td>MLE</td>       <th>  Df Model:          </th>   <td>     5</td>   \n",
       "</tr>\n",
       "<tr>\n",
       "  <th>Date:</th>            <td>Fri, 22 Jan 2021</td> <th>  Pseudo R-squ.:     </th>  <td>3.482e-05</td> \n",
       "</tr>\n",
       "<tr>\n",
       "  <th>Time:</th>                <td>19:12:54</td>     <th>  Log-Likelihood:    </th> <td>-1.0639e+05</td>\n",
       "</tr>\n",
       "<tr>\n",
       "  <th>converged:</th>             <td>True</td>       <th>  LL-Null:           </th> <td>-1.0639e+05</td>\n",
       "</tr>\n",
       "<tr>\n",
       "  <th>Covariance Type:</th>     <td>nonrobust</td>    <th>  LLR p-value:       </th>   <td>0.1920</td>   \n",
       "</tr>\n",
       "</table>\n",
       "<table class=\"simpletable\">\n",
       "<tr>\n",
       "                        <td></td>                          <th>coef</th>     <th>std err</th>      <th>z</th>      <th>P>|z|</th>  <th>[0.025</th>    <th>0.975]</th>  \n",
       "</tr>\n",
       "<tr>\n",
       "  <th>Intercept</th>                                    <td>   -2.0715</td> <td>    0.037</td> <td>  -55.798</td> <td> 0.000</td> <td>   -2.144</td> <td>   -1.999</td>\n",
       "</tr>\n",
       "<tr>\n",
       "  <th>C(country)[T.UK]</th>                             <td>    0.0901</td> <td>    0.040</td> <td>    2.225</td> <td> 0.026</td> <td>    0.011</td> <td>    0.169</td>\n",
       "</tr>\n",
       "<tr>\n",
       "  <th>C(country)[T.US]</th>                             <td>    0.0644</td> <td>    0.038</td> <td>    1.679</td> <td> 0.093</td> <td>   -0.011</td> <td>    0.140</td>\n",
       "</tr>\n",
       "<tr>\n",
       "  <th>C(landing_page)[T.old_page]</th>                  <td>    0.0674</td> <td>    0.052</td> <td>    1.297</td> <td> 0.195</td> <td>   -0.034</td> <td>    0.169</td>\n",
       "</tr>\n",
       "<tr>\n",
       "  <th>C(country)[T.UK]:C(landing_page)[T.old_page]</th> <td>   -0.0783</td> <td>    0.057</td> <td>   -1.378</td> <td> 0.168</td> <td>   -0.190</td> <td>    0.033</td>\n",
       "</tr>\n",
       "<tr>\n",
       "  <th>C(country)[T.US]:C(landing_page)[T.old_page]</th> <td>   -0.0469</td> <td>    0.054</td> <td>   -0.872</td> <td> 0.383</td> <td>   -0.152</td> <td>    0.059</td>\n",
       "</tr>\n",
       "</table>"
      ],
      "text/plain": [
       "<class 'statsmodels.iolib.summary.Summary'>\n",
       "\"\"\"\n",
       "                           Logit Regression Results                           \n",
       "==============================================================================\n",
       "Dep. Variable:                      y   No. Observations:               290584\n",
       "Model:                          Logit   Df Residuals:                   290578\n",
       "Method:                           MLE   Df Model:                            5\n",
       "Date:                Fri, 22 Jan 2021   Pseudo R-squ.:               3.482e-05\n",
       "Time:                        19:12:54   Log-Likelihood:            -1.0639e+05\n",
       "converged:                       True   LL-Null:                   -1.0639e+05\n",
       "Covariance Type:            nonrobust   LLR p-value:                    0.1920\n",
       "================================================================================================================\n",
       "                                                   coef    std err          z      P>|z|      [0.025      0.975]\n",
       "----------------------------------------------------------------------------------------------------------------\n",
       "Intercept                                       -2.0715      0.037    -55.798      0.000      -2.144      -1.999\n",
       "C(country)[T.UK]                                 0.0901      0.040      2.225      0.026       0.011       0.169\n",
       "C(country)[T.US]                                 0.0644      0.038      1.679      0.093      -0.011       0.140\n",
       "C(landing_page)[T.old_page]                      0.0674      0.052      1.297      0.195      -0.034       0.169\n",
       "C(country)[T.UK]:C(landing_page)[T.old_page]    -0.0783      0.057     -1.378      0.168      -0.190       0.033\n",
       "C(country)[T.US]:C(landing_page)[T.old_page]    -0.0469      0.054     -0.872      0.383      -0.152       0.059\n",
       "================================================================================================================\n",
       "\"\"\""
      ]
     },
     "execution_count": 138,
     "metadata": {},
     "output_type": "execute_result"
    }
   ],
   "source": [
    "#create the interaction model between the pages and countries using dmatrices \n",
    "\n",
    "from patsy import dmatrices\n",
    "\n",
    "# create dummy variables, and their interactions\n",
    "y, X = dmatrices('converted ~ C(country)*C(landing_page)', df_joined, return_type=\"dataframe\")\n",
    "\n",
    "y = np.ravel(y)\n",
    "\n",
    "#create a logistic model with X as independent variables, and y as dependent one.\n",
    "\n",
    "logit_mod = sm.Logit(y,X)\n",
    "results_4 = logit_mod.fit()\n",
    "results_4.summary()"
   ]
  },
  {
   "cell_type": "code",
   "execution_count": 140,
   "metadata": {},
   "outputs": [
    {
     "data": {
      "text/plain": [
       "Intercept                                       0.126002\n",
       "C(country)[T.UK]                                1.094247\n",
       "C(country)[T.US]                                1.066532\n",
       "C(landing_page)[T.old_page]                     1.069775\n",
       "C(country)[T.UK]:C(landing_page)[T.old_page]    0.924703\n",
       "C(country)[T.US]:C(landing_page)[T.old_page]    0.954198\n",
       "dtype: float64"
      ]
     },
     "execution_count": 140,
     "metadata": {},
     "output_type": "execute_result"
    }
   ],
   "source": [
    "np.exp(results_4.params)"
   ]
  },
  {
   "cell_type": "markdown",
   "metadata": {},
   "source": [
    "* if an individual is from CA and use a new page, he is 1.094247 times more likely to make a conversion than if he is from UK and using the new page , holding all other variables constant.\n",
    "\n",
    "* if an individual is from CA and use a new page, he is 1.066532 times more likely to make a conversion than if he is from US and use a new page , holding all other variables constant.\n",
    "\n",
    "* If an individual is from CA and use a new page, he is 1.069775 times more likely to make a conversion than if he is from CA and use an old page, holding all other variables constant.\n",
    "\n",
    "* there is no effect in the conversion rate if an indivisual uses old page or new page \n",
    "* there is no effect in the conversion rate if user is in a specific country or other country.\n",
    "\n",
    "* there is no diffrence in the conversion rate if an indivisual uses one of the pages and he is in a specific country."
   ]
  },
  {
   "cell_type": "markdown",
   "metadata": {},
   "source": [
    "<a id='conclusions'></a>\n",
    "## Conclusions\n",
    "\n",
    "Congratulations on completing the project! \n",
    "Finally, we can find the optimal decision using approaches so here in the project we are seeking to find which page is better than another which called stick to old page or accept the change to new page, by the converted rate,these approaches arethe probability, hypothesis testing, and the regression models, all of these ways give us evidences that the old page is better than the new one but with a tiny diffrence, so we can make a decision that keep the old page and reject the change to new one\n",
    "\n",
    "We should stick to the old page is better than the new page. Also will not need to waste time and put alot of effort to create the new page instead of creating new page.\n",
    "\n"
   ]
  }
 ],
 "metadata": {
  "kernelspec": {
   "display_name": "Python 3",
   "language": "python",
   "name": "python3"
  },
  "language_info": {
   "codemirror_mode": {
    "name": "ipython",
    "version": 3
   },
   "file_extension": ".py",
   "mimetype": "text/x-python",
   "name": "python",
   "nbconvert_exporter": "python",
   "pygments_lexer": "ipython3",
   "version": "3.7.6"
  }
 },
 "nbformat": 4,
 "nbformat_minor": 2
}
